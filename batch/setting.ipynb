{
 "cells": [
  {
   "cell_type": "markdown",
   "id": "63d8fbaa",
   "metadata": {},
   "source": [
    "# pip install\n",
    "## PyTorch + CUDA"
   ]
  },
  {
   "cell_type": "code",
   "execution_count": 1,
   "id": "ba3e38f8",
   "metadata": {},
   "outputs": [
    {
     "name": "stdout",
     "output_type": "stream",
     "text": [
      "Looking in indexes: https://download.pytorch.org/whl/cu118, https://pypi.org/simple/\n",
      "Collecting torch==2.1.0\n",
      "  Downloading https://download.pytorch.org/whl/cu118/torch-2.1.0%2Bcu118-cp310-cp310-linux_x86_64.whl (2325.9 MB)\n",
      "\u001b[2K     \u001b[90m━━━━━━━━━━━━━━━━━━━━━━━━━━━━━━━━━━━━━━━━\u001b[0m \u001b[32m2.3/2.3 GB\u001b[0m \u001b[31m61.0 MB/s\u001b[0m eta \u001b[36m0:00:00\u001b[0m00:01\u001b[0m00:02\u001b[0m\n",
      "\u001b[?25hCollecting torchvision==0.16.0\n",
      "  Downloading https://download.pytorch.org/whl/cu118/torchvision-0.16.0%2Bcu118-cp310-cp310-linux_x86_64.whl (6.2 MB)\n",
      "\u001b[2K     \u001b[90m━━━━━━━━━━━━━━━━━━━━━━━━━━━━━━━━━━━━━━━━\u001b[0m \u001b[32m6.2/6.2 MB\u001b[0m \u001b[31m18.7 MB/s\u001b[0m eta \u001b[36m0:00:00\u001b[0mta \u001b[36m0:00:01\u001b[0m\n",
      "\u001b[?25hCollecting torchaudio==2.1.0\n",
      "  Downloading https://download.pytorch.org/whl/cu118/torchaudio-2.1.0%2Bcu118-cp310-cp310-linux_x86_64.whl (3.2 MB)\n",
      "\u001b[2K     \u001b[90m━━━━━━━━━━━━━━━━━━━━━━━━━━━━━━━━━━━━━━━━\u001b[0m \u001b[32m3.2/3.2 MB\u001b[0m \u001b[31m99.1 MB/s\u001b[0m eta \u001b[36m0:00:00\u001b[0m\n",
      "\u001b[?25hCollecting filelock (from torch==2.1.0)\n",
      "  Downloading filelock-3.19.1-py3-none-any.whl.metadata (2.1 kB)\n",
      "Requirement already satisfied: typing-extensions in /opt/conda/envs/sapiens/lib/python3.10/site-packages (from torch==2.1.0) (4.15.0)\n",
      "Collecting sympy (from torch==2.1.0)\n",
      "  Downloading sympy-1.14.0-py3-none-any.whl.metadata (12 kB)\n",
      "Collecting networkx (from torch==2.1.0)\n",
      "  Downloading networkx-3.4.2-py3-none-any.whl.metadata (6.3 kB)\n",
      "Requirement already satisfied: jinja2 in /opt/conda/envs/sapiens/lib/python3.10/site-packages (from torch==2.1.0) (3.1.6)\n",
      "Collecting fsspec (from torch==2.1.0)\n",
      "  Downloading fsspec-2025.7.0-py3-none-any.whl.metadata (12 kB)\n",
      "Collecting triton==2.1.0 (from torch==2.1.0)\n",
      "  Downloading triton-2.1.0-0-cp310-cp310-manylinux2014_x86_64.manylinux_2_17_x86_64.whl.metadata (1.3 kB)\n",
      "Collecting numpy (from torchvision==0.16.0)\n",
      "  Downloading numpy-2.2.6-cp310-cp310-manylinux_2_17_x86_64.manylinux2014_x86_64.whl.metadata (62 kB)\n",
      "Requirement already satisfied: requests in /opt/conda/envs/sapiens/lib/python3.10/site-packages (from torchvision==0.16.0) (2.32.4)\n",
      "Collecting pillow!=8.3.*,>=5.3.0 (from torchvision==0.16.0)\n",
      "  Downloading pillow-11.3.0-cp310-cp310-manylinux_2_27_x86_64.manylinux_2_28_x86_64.whl.metadata (9.0 kB)\n",
      "Requirement already satisfied: MarkupSafe>=2.0 in /opt/conda/envs/sapiens/lib/python3.10/site-packages (from jinja2->torch==2.1.0) (3.0.2)\n",
      "Requirement already satisfied: charset_normalizer<4,>=2 in /opt/conda/envs/sapiens/lib/python3.10/site-packages (from requests->torchvision==0.16.0) (3.3.2)\n",
      "Requirement already satisfied: idna<4,>=2.5 in /opt/conda/envs/sapiens/lib/python3.10/site-packages (from requests->torchvision==0.16.0) (3.7)\n",
      "Requirement already satisfied: urllib3<3,>=1.21.1 in /opt/conda/envs/sapiens/lib/python3.10/site-packages (from requests->torchvision==0.16.0) (2.5.0)\n",
      "Requirement already satisfied: certifi>=2017.4.17 in /opt/conda/envs/sapiens/lib/python3.10/site-packages (from requests->torchvision==0.16.0) (2025.8.3)\n",
      "Collecting mpmath<1.4,>=1.1.0 (from sympy->torch==2.1.0)\n",
      "  Downloading mpmath-1.3.0-py3-none-any.whl.metadata (8.6 kB)\n",
      "Downloading triton-2.1.0-0-cp310-cp310-manylinux2014_x86_64.manylinux_2_17_x86_64.whl (89.2 MB)\n",
      "\u001b[2K   \u001b[90m━━━━━━━━━━━━━━━━━━━━━━━━━━━━━━━━━━━━━━━━\u001b[0m \u001b[32m89.2/89.2 MB\u001b[0m \u001b[31m57.1 MB/s\u001b[0m eta \u001b[36m0:00:00\u001b[0ma \u001b[36m0:00:01\u001b[0m\n",
      "\u001b[?25hDownloading pillow-11.3.0-cp310-cp310-manylinux_2_27_x86_64.manylinux_2_28_x86_64.whl (6.6 MB)\n",
      "\u001b[2K   \u001b[90m━━━━━━━━━━━━━━━━━━━━━━━━━━━━━━━━━━━━━━━━\u001b[0m \u001b[32m6.6/6.6 MB\u001b[0m \u001b[31m96.4 MB/s\u001b[0m eta \u001b[36m0:00:00\u001b[0m\n",
      "\u001b[?25hDownloading filelock-3.19.1-py3-none-any.whl (15 kB)\n",
      "Downloading fsspec-2025.7.0-py3-none-any.whl (199 kB)\n",
      "Downloading networkx-3.4.2-py3-none-any.whl (1.7 MB)\n",
      "\u001b[2K   \u001b[90m━━━━━━━━━━━━━━━━━━━━━━━━━━━━━━━━━━━━━━━━\u001b[0m \u001b[32m1.7/1.7 MB\u001b[0m \u001b[31m108.8 MB/s\u001b[0m eta \u001b[36m0:00:00\u001b[0m\n",
      "\u001b[?25hDownloading numpy-2.2.6-cp310-cp310-manylinux_2_17_x86_64.manylinux2014_x86_64.whl (16.8 MB)\n",
      "\u001b[2K   \u001b[90m━━━━━━━━━━━━━━━━━━━━━━━━━━━━━━━━━━━━━━━━\u001b[0m \u001b[32m16.8/16.8 MB\u001b[0m \u001b[31m87.2 MB/s\u001b[0m eta \u001b[36m0:00:00\u001b[0m\n",
      "\u001b[?25hDownloading sympy-1.14.0-py3-none-any.whl (6.3 MB)\n",
      "\u001b[2K   \u001b[90m━━━━━━━━━━━━━━━━━━━━━━━━━━━━━━━━━━━━━━━━\u001b[0m \u001b[32m6.3/6.3 MB\u001b[0m \u001b[31m97.0 MB/s\u001b[0m eta \u001b[36m0:00:00\u001b[0m\n",
      "\u001b[?25hDownloading mpmath-1.3.0-py3-none-any.whl (536 kB)\n",
      "\u001b[2K   \u001b[90m━━━━━━━━━━━━━━━━━━━━━━━━━━━━━━━━━━━━━━━\u001b[0m \u001b[32m536.2/536.2 kB\u001b[0m \u001b[31m106.2 MB/s\u001b[0m eta \u001b[36m0:00:00\u001b[0m\n",
      "\u001b[?25hInstalling collected packages: mpmath, sympy, pillow, numpy, networkx, fsspec, filelock, triton, torch, torchvision, torchaudio\n",
      "\u001b[2K   \u001b[90m━━━━━━━━━━━━━━━━━━━━━━━━━━━━━━━━━━━━━━━━\u001b[0m \u001b[32m11/11\u001b[0m [torchaudio]1\u001b[0m [torchaudio]]\n",
      "\u001b[1A\u001b[2KSuccessfully installed filelock-3.19.1 fsspec-2025.7.0 mpmath-1.3.0 networkx-3.4.2 numpy-2.2.6 pillow-11.3.0 sympy-1.14.0 torch-2.1.0+cu118 torchaudio-2.1.0+cu118 torchvision-0.16.0+cu118 triton-2.1.0\n",
      "\u001b[33mWARNING: Running pip as the 'root' user can result in broken permissions and conflicting behaviour with the system package manager, possibly rendering your system unusable. It is recommended to use a virtual environment instead: https://pip.pypa.io/warnings/venv. Use the --root-user-action option if you know what you are doing and want to suppress this warning.\u001b[0m\u001b[33m\n",
      "\u001b[0m"
     ]
    }
   ],
   "source": [
    "!pip install torch==2.1.0 torchvision==0.16.0 torchaudio==2.1.0 --index-url https://download.pytorch.org/whl/cu118 --no-cache-dir"
   ]
  },
  {
   "cell_type": "markdown",
   "id": "50b99ea5",
   "metadata": {},
   "source": [
    "## 필수 수학 연산 라이브러리"
   ]
  },
  {
   "cell_type": "code",
   "execution_count": 2,
   "id": "d98da258",
   "metadata": {},
   "outputs": [
    {
     "name": "stdout",
     "output_type": "stream",
     "text": [
      "Looking in indexes: https://mirror.kakao.com/pypi/simple/, https://pypi.org/simple/\n",
      "Collecting numpy==1.26.4\n",
      "  Downloading numpy-1.26.4-cp310-cp310-manylinux_2_17_x86_64.manylinux2014_x86_64.whl.metadata (61 kB)\n",
      "Collecting scipy==1.11.4\n",
      "  Downloading scipy-1.11.4-cp310-cp310-manylinux_2_17_x86_64.manylinux2014_x86_64.whl.metadata (60 kB)\n",
      "Collecting pandas==2.3.2\n",
      "  Downloading pandas-2.3.2-cp310-cp310-manylinux_2_17_x86_64.manylinux2014_x86_64.whl.metadata (91 kB)\n",
      "Requirement already satisfied: python-dateutil>=2.8.2 in /opt/conda/envs/sapiens/lib/python3.10/site-packages (from pandas==2.3.2) (2.9.0.post0)\n",
      "Collecting pytz>=2020.1 (from pandas==2.3.2)\n",
      "  Downloading pytz-2025.2-py2.py3-none-any.whl.metadata (22 kB)\n",
      "Collecting tzdata>=2022.7 (from pandas==2.3.2)\n",
      "  Downloading tzdata-2025.2-py2.py3-none-any.whl.metadata (1.4 kB)\n",
      "Requirement already satisfied: six>=1.5 in /opt/conda/envs/sapiens/lib/python3.10/site-packages (from python-dateutil>=2.8.2->pandas==2.3.2) (1.17.0)\n",
      "Downloading numpy-1.26.4-cp310-cp310-manylinux_2_17_x86_64.manylinux2014_x86_64.whl (18.2 MB)\n",
      "\u001b[2K   \u001b[90m━━━━━━━━━━━━━━━━━━━━━━━━━━━━━━━━━━━━━━━━\u001b[0m \u001b[32m18.2/18.2 MB\u001b[0m \u001b[31m25.8 MB/s\u001b[0m eta \u001b[36m0:00:00\u001b[0ma \u001b[36m0:00:01\u001b[0m\n",
      "\u001b[?25hDownloading scipy-1.11.4-cp310-cp310-manylinux_2_17_x86_64.manylinux2014_x86_64.whl (36.4 MB)\n",
      "\u001b[2K   \u001b[90m━━━━━━━━━━━━━━━━━━━━━━━━━━━━━━━━━━━━━━━━\u001b[0m \u001b[32m36.4/36.4 MB\u001b[0m \u001b[31m92.7 MB/s\u001b[0m eta \u001b[36m0:00:00\u001b[0ma \u001b[36m0:00:01\u001b[0m\n",
      "\u001b[?25hDownloading pandas-2.3.2-cp310-cp310-manylinux_2_17_x86_64.manylinux2014_x86_64.whl (12.3 MB)\n",
      "\u001b[2K   \u001b[90m━━━━━━━━━━━━━━━━━━━━━━━━━━━━━━━━━━━━━━━━\u001b[0m \u001b[32m12.3/12.3 MB\u001b[0m \u001b[31m81.5 MB/s\u001b[0m eta \u001b[36m0:00:00\u001b[0m\n",
      "\u001b[?25hDownloading pytz-2025.2-py2.py3-none-any.whl (509 kB)\n",
      "Downloading tzdata-2025.2-py2.py3-none-any.whl (347 kB)\n",
      "Installing collected packages: pytz, tzdata, numpy, scipy, pandas\n",
      "\u001b[2K  Attempting uninstall: numpym\u001b[90m━━━━━━━━━━━━━━━━━━━━━━━━━━━━━━━\u001b[0m \u001b[32m1/5\u001b[0m [tzdata]\n",
      "\u001b[2K    Found existing installation: numpy 2.2.6━━━━━━━━━━━━━━━━━━\u001b[0m \u001b[32m1/5\u001b[0m [tzdata]\n",
      "\u001b[2K    Uninstalling numpy-2.2.6:0m━━━━━━━━━━━━━━━━━━━━━━━━━━━━━━━\u001b[0m \u001b[32m1/5\u001b[0m [tzdata]\n",
      "\u001b[2K      Successfully uninstalled numpy-2.2.6━━━━━━━━━━━━━━━━━━━━\u001b[0m \u001b[32m1/5\u001b[0m [tzdata]\n",
      "\u001b[2K   \u001b[90m━━━━━━━━━━━━━━━━━━━━━━━━━━━━━━━━━━━━━━━━\u001b[0m \u001b[32m5/5\u001b[0m [pandas]2m4/5\u001b[0m [pandas]\n",
      "\u001b[1A\u001b[2KSuccessfully installed numpy-1.26.4 pandas-2.3.2 pytz-2025.2 scipy-1.11.4 tzdata-2025.2\n",
      "\u001b[33mWARNING: Running pip as the 'root' user can result in broken permissions and conflicting behaviour with the system package manager, possibly rendering your system unusable. It is recommended to use a virtual environment instead: https://pip.pypa.io/warnings/venv. Use the --root-user-action option if you know what you are doing and want to suppress this warning.\u001b[0m\u001b[33m\n",
      "\u001b[0m"
     ]
    }
   ],
   "source": [
    "!pip install numpy==1.26.4 scipy==1.11.4 pandas==2.3.2 --no-cache-dir"
   ]
  },
  {
   "cell_type": "markdown",
   "id": "f7688140",
   "metadata": {},
   "source": [
    "## 기타 필수 유틸"
   ]
  },
  {
   "cell_type": "code",
   "execution_count": 3,
   "id": "595ce872",
   "metadata": {},
   "outputs": [
    {
     "name": "stdout",
     "output_type": "stream",
     "text": [
      "Looking in indexes: https://mirror.kakao.com/pypi/simple/, https://pypi.org/simple/\n",
      "Requirement already satisfied: pyyaml==6.0.2 in /opt/conda/envs/sapiens/lib/python3.10/site-packages (6.0.2)\n",
      "Collecting tqdm==4.65.2\n",
      "  Downloading tqdm-4.65.2-py3-none-any.whl.metadata (56 kB)\n",
      "Collecting shapely==2.1.1\n",
      "  Downloading shapely-2.1.1-cp310-cp310-manylinux_2_17_x86_64.manylinux2014_x86_64.whl.metadata (6.7 kB)\n",
      "Collecting json-tricks==3.17.3\n",
      "  Downloading json_tricks-3.17.3-py2.py3-none-any.whl.metadata (16 kB)\n",
      "Requirement already satisfied: numpy>=1.21 in /opt/conda/envs/sapiens/lib/python3.10/site-packages (from shapely==2.1.1) (1.26.4)\n",
      "Downloading tqdm-4.65.2-py3-none-any.whl (77 kB)\n",
      "Downloading shapely-2.1.1-cp310-cp310-manylinux_2_17_x86_64.manylinux2014_x86_64.whl (3.1 MB)\n",
      "\u001b[2K   \u001b[90m━━━━━━━━━━━━━━━━━━━━━━━━━━━━━━━━━━━━━━━━\u001b[0m \u001b[32m3.1/3.1 MB\u001b[0m \u001b[31m59.2 MB/s\u001b[0m eta \u001b[36m0:00:00\u001b[0m\n",
      "\u001b[?25hDownloading json_tricks-3.17.3-py2.py3-none-any.whl (27 kB)\n",
      "Installing collected packages: json-tricks, tqdm, shapely\n",
      "\u001b[2K   \u001b[90m━━━━━━━━━━━━━━━━━━━━━━━━━━━━━━━━━━━━━━━━\u001b[0m \u001b[32m3/3\u001b[0m [shapely]m2/3\u001b[0m [shapely]\n",
      "\u001b[1A\u001b[2KSuccessfully installed json-tricks-3.17.3 shapely-2.1.1 tqdm-4.65.2\n",
      "\u001b[33mWARNING: Running pip as the 'root' user can result in broken permissions and conflicting behaviour with the system package manager, possibly rendering your system unusable. It is recommended to use a virtual environment instead: https://pip.pypa.io/warnings/venv. Use the --root-user-action option if you know what you are doing and want to suppress this warning.\u001b[0m\u001b[33m\n",
      "\u001b[0m"
     ]
    }
   ],
   "source": [
    "!pip install pyyaml==6.0.2 tqdm==4.65.2 shapely==2.1.1 json-tricks==3.17.3 --no-cache-dir"
   ]
  },
  {
   "cell_type": "markdown",
   "id": "3c6434c6",
   "metadata": {},
   "source": [
    "## 이미지/비디오 처리 및 COCO Dataset 관련 라이브러리"
   ]
  },
  {
   "cell_type": "code",
   "execution_count": 4,
   "id": "0f9f6ff4",
   "metadata": {},
   "outputs": [
    {
     "name": "stdout",
     "output_type": "stream",
     "text": [
      "Looking in indexes: https://mirror.kakao.com/pypi/simple/, https://pypi.org/simple/\n",
      "Collecting opencv-python==4.8.1.78\n",
      "  Downloading opencv_python-4.8.1.78-cp37-abi3-manylinux_2_17_x86_64.manylinux2014_x86_64.whl.metadata (19 kB)\n",
      "Collecting pillow==11.1.0\n",
      "  Downloading pillow-11.1.0-cp310-cp310-manylinux_2_17_x86_64.manylinux2014_x86_64.whl.metadata (9.1 kB)\n",
      "Requirement already satisfied: numpy>=1.21.2 in /opt/conda/envs/sapiens/lib/python3.10/site-packages (from opencv-python==4.8.1.78) (1.26.4)\n",
      "Downloading opencv_python-4.8.1.78-cp37-abi3-manylinux_2_17_x86_64.manylinux2014_x86_64.whl (61.7 MB)\n",
      "\u001b[2K   \u001b[90m━━━━━━━━━━━━━━━━━━━━━━━━━━━━━━━━━━━━━━━━\u001b[0m \u001b[32m61.7/61.7 MB\u001b[0m \u001b[31m17.2 MB/s\u001b[0m eta \u001b[36m0:00:00\u001b[0m00:01\u001b[0m00:01\u001b[0m\n",
      "\u001b[?25hDownloading pillow-11.1.0-cp310-cp310-manylinux_2_17_x86_64.manylinux2014_x86_64.whl (4.4 MB)\n",
      "\u001b[2K   \u001b[90m━━━━━━━━━━━━━━━━━━━━━━━━━━━━━━━━━━━━━━━━\u001b[0m \u001b[32m4.4/4.4 MB\u001b[0m \u001b[31m47.8 MB/s\u001b[0m eta \u001b[36m0:00:00\u001b[0m\n",
      "\u001b[?25hInstalling collected packages: pillow, opencv-python\n",
      "\u001b[2K  Attempting uninstall: pillow\n",
      "\u001b[2K    Found existing installation: pillow 11.3.0\n",
      "\u001b[2K    Uninstalling pillow-11.3.0:\n",
      "\u001b[2K      Successfully uninstalled pillow-11.3.0\n",
      "\u001b[2K   \u001b[90m━━━━━━━━━━━━━━━━━━━━━━━━━━━━━━━━━━━━━━━━\u001b[0m \u001b[32m2/2\u001b[0m [opencv-python]0m [opencv-python]\n",
      "\u001b[1A\u001b[2KSuccessfully installed opencv-python-4.8.1.78 pillow-11.1.0\n",
      "\u001b[33mWARNING: Running pip as the 'root' user can result in broken permissions and conflicting behaviour with the system package manager, possibly rendering your system unusable. It is recommended to use a virtual environment instead: https://pip.pypa.io/warnings/venv. Use the --root-user-action option if you know what you are doing and want to suppress this warning.\u001b[0m\u001b[33m\n",
      "\u001b[0mLooking in indexes: https://mirror.kakao.com/pypi/simple/, https://pypi.org/simple/\n",
      "Collecting pycocotools==2.0.10\n",
      "  Downloading pycocotools-2.0.10-cp310-cp310-manylinux_2_17_x86_64.manylinux2014_x86_64.whl.metadata (1.3 kB)\n",
      "Collecting xtcocotools==1.14.3\n",
      "  Downloading xtcocotools-1.14.3-cp310-cp310-manylinux1_x86_64.whl.metadata (364 bytes)\n",
      "Requirement already satisfied: numpy in /opt/conda/envs/sapiens/lib/python3.10/site-packages (from pycocotools==2.0.10) (1.26.4)\n",
      "Requirement already satisfied: setuptools>=18.0 in /opt/conda/envs/sapiens/lib/python3.10/site-packages (from xtcocotools==1.14.3) (78.1.1)\n",
      "Collecting cython>=0.27.3 (from xtcocotools==1.14.3)\n",
      "  Downloading cython-3.1.3-cp310-cp310-manylinux2014_x86_64.manylinux_2_17_x86_64.manylinux_2_28_x86_64.whl.metadata (4.7 kB)\n",
      "Collecting matplotlib>=2.1.0 (from xtcocotools==1.14.3)\n",
      "  Downloading matplotlib-3.10.5-cp310-cp310-manylinux2014_x86_64.manylinux_2_17_x86_64.whl.metadata (11 kB)\n",
      "Collecting contourpy>=1.0.1 (from matplotlib>=2.1.0->xtcocotools==1.14.3)\n",
      "  Downloading contourpy-1.3.2-cp310-cp310-manylinux_2_17_x86_64.manylinux2014_x86_64.whl.metadata (5.5 kB)\n",
      "Collecting cycler>=0.10 (from matplotlib>=2.1.0->xtcocotools==1.14.3)\n",
      "  Downloading cycler-0.12.1-py3-none-any.whl.metadata (3.8 kB)\n",
      "Collecting fonttools>=4.22.0 (from matplotlib>=2.1.0->xtcocotools==1.14.3)\n",
      "  Downloading fonttools-4.59.2-cp310-cp310-manylinux2014_x86_64.manylinux_2_17_x86_64.whl.metadata (109 kB)\n",
      "Collecting kiwisolver>=1.3.1 (from matplotlib>=2.1.0->xtcocotools==1.14.3)\n",
      "  Downloading kiwisolver-1.4.9-cp310-cp310-manylinux_2_12_x86_64.manylinux2010_x86_64.whl.metadata (6.3 kB)\n",
      "Requirement already satisfied: packaging>=20.0 in /opt/conda/envs/sapiens/lib/python3.10/site-packages (from matplotlib>=2.1.0->xtcocotools==1.14.3) (25.0)\n",
      "Requirement already satisfied: pillow>=8 in /opt/conda/envs/sapiens/lib/python3.10/site-packages (from matplotlib>=2.1.0->xtcocotools==1.14.3) (11.1.0)\n",
      "Collecting pyparsing>=2.3.1 (from matplotlib>=2.1.0->xtcocotools==1.14.3)\n",
      "  Downloading pyparsing-3.2.3-py3-none-any.whl.metadata (5.0 kB)\n",
      "Requirement already satisfied: python-dateutil>=2.7 in /opt/conda/envs/sapiens/lib/python3.10/site-packages (from matplotlib>=2.1.0->xtcocotools==1.14.3) (2.9.0.post0)\n",
      "Requirement already satisfied: six>=1.5 in /opt/conda/envs/sapiens/lib/python3.10/site-packages (from python-dateutil>=2.7->matplotlib>=2.1.0->xtcocotools==1.14.3) (1.17.0)\n",
      "Downloading pycocotools-2.0.10-cp310-cp310-manylinux_2_17_x86_64.manylinux2014_x86_64.whl (455 kB)\n",
      "Downloading xtcocotools-1.14.3-cp310-cp310-manylinux1_x86_64.whl (436 kB)\n",
      "Downloading cython-3.1.3-cp310-cp310-manylinux2014_x86_64.manylinux_2_17_x86_64.manylinux_2_28_x86_64.whl (3.4 MB)\n",
      "\u001b[2K   \u001b[90m━━━━━━━━━━━━━━━━━━━━━━━━━━━━━━━━━━━━━━━━\u001b[0m \u001b[32m3.4/3.4 MB\u001b[0m \u001b[31m57.3 MB/s\u001b[0m eta \u001b[36m0:00:00\u001b[0m\n",
      "\u001b[?25hDownloading matplotlib-3.10.5-cp310-cp310-manylinux2014_x86_64.manylinux_2_17_x86_64.whl (8.7 MB)\n",
      "\u001b[2K   \u001b[90m━━━━━━━━━━━━━━━━━━━━━━━━━━━━━━━━━━━━━━━━\u001b[0m \u001b[32m8.7/8.7 MB\u001b[0m \u001b[31m82.1 MB/s\u001b[0m eta \u001b[36m0:00:00\u001b[0m\n",
      "\u001b[?25hDownloading contourpy-1.3.2-cp310-cp310-manylinux_2_17_x86_64.manylinux2014_x86_64.whl (325 kB)\n",
      "Downloading cycler-0.12.1-py3-none-any.whl (8.3 kB)\n",
      "Downloading fonttools-4.59.2-cp310-cp310-manylinux2014_x86_64.manylinux_2_17_x86_64.whl (4.8 MB)\n",
      "\u001b[2K   \u001b[90m━━━━━━━━━━━━━━━━━━━━━━━━━━━━━━━━━━━━━━━━\u001b[0m \u001b[32m4.8/4.8 MB\u001b[0m \u001b[31m67.8 MB/s\u001b[0m eta \u001b[36m0:00:00\u001b[0m\n",
      "\u001b[?25hDownloading kiwisolver-1.4.9-cp310-cp310-manylinux_2_12_x86_64.manylinux2010_x86_64.whl (1.6 MB)\n",
      "\u001b[2K   \u001b[90m━━━━━━━━━━━━━━━━━━━━━━━━━━━━━━━━━━━━━━━━\u001b[0m \u001b[32m1.6/1.6 MB\u001b[0m \u001b[31m47.7 MB/s\u001b[0m eta \u001b[36m0:00:00\u001b[0m\n",
      "\u001b[?25hDownloading pyparsing-3.2.3-py3-none-any.whl (111 kB)\n",
      "Installing collected packages: pyparsing, pycocotools, kiwisolver, fonttools, cython, cycler, contourpy, matplotlib, xtcocotools\n",
      "\u001b[2K   \u001b[90m━━━━━━━━━━━━━━━━━━━━━━━━━━━━━━━━━━━━━━━━\u001b[0m \u001b[32m9/9\u001b[0m [xtcocotools]\u001b[0m [matplotlib]\n",
      "\u001b[1A\u001b[2KSuccessfully installed contourpy-1.3.2 cycler-0.12.1 cython-3.1.3 fonttools-4.59.2 kiwisolver-1.4.9 matplotlib-3.10.5 pycocotools-2.0.10 pyparsing-3.2.3 xtcocotools-1.14.3\n",
      "\u001b[33mWARNING: Running pip as the 'root' user can result in broken permissions and conflicting behaviour with the system package manager, possibly rendering your system unusable. It is recommended to use a virtual environment instead: https://pip.pypa.io/warnings/venv. Use the --root-user-action option if you know what you are doing and want to suppress this warning.\u001b[0m\u001b[33m\n",
      "\u001b[0m"
     ]
    }
   ],
   "source": [
    "# 이미지/비디오 처리\n",
    "!pip install opencv-python==4.8.1.78 pillow==11.1.0 --no-cache-dir\n",
    "# COCO Dataset\n",
    "!pip install pycocotools==2.0.10 xtcocotools==1.14.3 --no-cache-dir\n"
   ]
  },
  {
   "cell_type": "markdown",
   "id": "5ea3e2c5",
   "metadata": {},
   "source": [
    "## \n",
    "OpenMMLab 핵심 라이브러리 설치"
   ]
  },
  {
   "cell_type": "code",
   "execution_count": 5,
   "id": "30ffc43f",
   "metadata": {},
   "outputs": [
    {
     "name": "stdout",
     "output_type": "stream",
     "text": [
      "Looking in indexes: https://mirror.kakao.com/pypi/simple/, https://pypi.org/simple/\n",
      "Requirement already satisfied: pip in /opt/conda/envs/sapiens/lib/python3.10/site-packages (25.1)\n",
      "Collecting pip\n",
      "  Downloading pip-25.2-py3-none-any.whl.metadata (4.7 kB)\n",
      "Requirement already satisfied: setuptools in /opt/conda/envs/sapiens/lib/python3.10/site-packages (78.1.1)\n",
      "Collecting setuptools\n",
      "  Downloading setuptools-80.9.0-py3-none-any.whl.metadata (6.6 kB)\n",
      "Requirement already satisfied: wheel in /opt/conda/envs/sapiens/lib/python3.10/site-packages (0.45.1)\n",
      "Downloading pip-25.2-py3-none-any.whl (1.8 MB)\n",
      "\u001b[2K   \u001b[90m━━━━━━━━━━━━━━━━━━━━━━━━━━━━━━━━━━━━━━━━\u001b[0m \u001b[32m1.8/1.8 MB\u001b[0m \u001b[31m73.6 MB/s\u001b[0m eta \u001b[36m0:00:00\u001b[0m\n",
      "\u001b[?25hDownloading setuptools-80.9.0-py3-none-any.whl (1.2 MB)\n",
      "\u001b[2K   \u001b[90m━━━━━━━━━━━━━━━━━━━━━━━━━━━━━━━━━━━━━━━━\u001b[0m \u001b[32m1.2/1.2 MB\u001b[0m \u001b[31m47.1 MB/s\u001b[0m eta \u001b[36m0:00:00\u001b[0m\n",
      "\u001b[?25hInstalling collected packages: setuptools, pip\n",
      "\u001b[2K  Attempting uninstall: setuptools\n",
      "\u001b[2K    Found existing installation: setuptools 78.1.1\n",
      "\u001b[2K    Uninstalling setuptools-78.1.1:\n",
      "\u001b[2K      Successfully uninstalled setuptools-78.1.1\n",
      "\u001b[2K  Attempting uninstall: pip━━━━━━━━━━━━━━━━━━━━━\u001b[0m \u001b[32m0/2\u001b[0m [setuptools]\n",
      "\u001b[2K    Found existing installation: pip 25.1━━━\u001b[0m \u001b[32m0/2\u001b[0m [setuptools]\n",
      "\u001b[2K    Uninstalling pip-25.1:━━━━━━━━━━━━━━━━━━\u001b[0m \u001b[32m0/2\u001b[0m [setuptools]\n",
      "\u001b[2K      Successfully uninstalled pip-25.1━━━━━\u001b[0m \u001b[32m0/2\u001b[0m [setuptools]\n",
      "\u001b[2K   \u001b[90m━━━━━━━━━━━━━━━━━━━━━━━━━━━━━━━━━━━━━━━━\u001b[0m \u001b[32m2/2\u001b[0m [pip]\u001b[32m1/2\u001b[0m [pip]\n",
      "\u001b[1A\u001b[2KSuccessfully installed pip-25.2 setuptools-80.9.0\n",
      "\u001b[33mWARNING: Running pip as the 'root' user can result in broken permissions and conflicting behaviour with the system package manager, possibly rendering your system unusable. It is recommended to use a virtual environment instead: https://pip.pypa.io/warnings/venv. Use the --root-user-action option if you know what you are doing and want to suppress this warning.\u001b[0m\u001b[33m\n",
      "\u001b[0mLooking in indexes: https://download.pytorch.org/whl/cu118, https://pypi.org/simple/\n",
      "Requirement already satisfied: torch==2.1.0 in /opt/conda/envs/sapiens/lib/python3.10/site-packages (2.1.0+cu118)\n",
      "Requirement already satisfied: torchvision==0.16.0 in /opt/conda/envs/sapiens/lib/python3.10/site-packages (0.16.0+cu118)\n",
      "Requirement already satisfied: torchaudio==2.1.0 in /opt/conda/envs/sapiens/lib/python3.10/site-packages (2.1.0+cu118)\n",
      "Requirement already satisfied: filelock in /opt/conda/envs/sapiens/lib/python3.10/site-packages (from torch==2.1.0) (3.19.1)\n",
      "Requirement already satisfied: typing-extensions in /opt/conda/envs/sapiens/lib/python3.10/site-packages (from torch==2.1.0) (4.15.0)\n",
      "Requirement already satisfied: sympy in /opt/conda/envs/sapiens/lib/python3.10/site-packages (from torch==2.1.0) (1.14.0)\n",
      "Requirement already satisfied: networkx in /opt/conda/envs/sapiens/lib/python3.10/site-packages (from torch==2.1.0) (3.4.2)\n",
      "Requirement already satisfied: jinja2 in /opt/conda/envs/sapiens/lib/python3.10/site-packages (from torch==2.1.0) (3.1.6)\n",
      "Requirement already satisfied: fsspec in /opt/conda/envs/sapiens/lib/python3.10/site-packages (from torch==2.1.0) (2025.7.0)\n",
      "Requirement already satisfied: triton==2.1.0 in /opt/conda/envs/sapiens/lib/python3.10/site-packages (from torch==2.1.0) (2.1.0)\n",
      "Requirement already satisfied: numpy in /opt/conda/envs/sapiens/lib/python3.10/site-packages (from torchvision==0.16.0) (1.26.4)\n",
      "Requirement already satisfied: requests in /opt/conda/envs/sapiens/lib/python3.10/site-packages (from torchvision==0.16.0) (2.32.4)\n",
      "Requirement already satisfied: pillow!=8.3.*,>=5.3.0 in /opt/conda/envs/sapiens/lib/python3.10/site-packages (from torchvision==0.16.0) (11.1.0)\n",
      "Requirement already satisfied: MarkupSafe>=2.0 in /opt/conda/envs/sapiens/lib/python3.10/site-packages (from jinja2->torch==2.1.0) (3.0.2)\n",
      "Requirement already satisfied: charset_normalizer<4,>=2 in /opt/conda/envs/sapiens/lib/python3.10/site-packages (from requests->torchvision==0.16.0) (3.3.2)\n",
      "Requirement already satisfied: idna<4,>=2.5 in /opt/conda/envs/sapiens/lib/python3.10/site-packages (from requests->torchvision==0.16.0) (3.7)\n",
      "Requirement already satisfied: urllib3<3,>=1.21.1 in /opt/conda/envs/sapiens/lib/python3.10/site-packages (from requests->torchvision==0.16.0) (2.5.0)\n",
      "Requirement already satisfied: certifi>=2017.4.17 in /opt/conda/envs/sapiens/lib/python3.10/site-packages (from requests->torchvision==0.16.0) (2025.8.3)\n",
      "Requirement already satisfied: mpmath<1.4,>=1.1.0 in /opt/conda/envs/sapiens/lib/python3.10/site-packages (from sympy->torch==2.1.0) (1.3.0)\n",
      "\u001b[33mWARNING: Running pip as the 'root' user can result in broken permissions and conflicting behaviour with the system package manager, possibly rendering your system unusable. It is recommended to use a virtual environment instead: https://pip.pypa.io/warnings/venv. Use the --root-user-action option if you know what you are doing and want to suppress this warning.\u001b[0m\u001b[33m\n",
      "\u001b[0mLooking in indexes: https://mirror.kakao.com/pypi/simple/, https://pypi.org/simple/\n",
      "Collecting mmengine==0.10.7\n",
      "  Downloading mmengine-0.10.7-py3-none-any.whl.metadata (20 kB)\n",
      "Collecting addict (from mmengine==0.10.7)\n",
      "  Downloading addict-2.4.0-py3-none-any.whl.metadata (1.0 kB)\n",
      "Requirement already satisfied: matplotlib in /opt/conda/envs/sapiens/lib/python3.10/site-packages (from mmengine==0.10.7) (3.10.5)\n",
      "Requirement already satisfied: numpy in /opt/conda/envs/sapiens/lib/python3.10/site-packages (from mmengine==0.10.7) (1.26.4)\n",
      "Requirement already satisfied: pyyaml in /opt/conda/envs/sapiens/lib/python3.10/site-packages (from mmengine==0.10.7) (6.0.2)\n",
      "Collecting rich (from mmengine==0.10.7)\n",
      "  Downloading rich-14.1.0-py3-none-any.whl.metadata (18 kB)\n",
      "Collecting termcolor (from mmengine==0.10.7)\n",
      "  Downloading termcolor-3.1.0-py3-none-any.whl.metadata (6.4 kB)\n",
      "Collecting yapf (from mmengine==0.10.7)\n",
      "  Downloading yapf-0.43.0-py3-none-any.whl.metadata (46 kB)\n",
      "Requirement already satisfied: opencv-python>=3 in /opt/conda/envs/sapiens/lib/python3.10/site-packages (from mmengine==0.10.7) (4.8.1.78)\n",
      "Requirement already satisfied: contourpy>=1.0.1 in /opt/conda/envs/sapiens/lib/python3.10/site-packages (from matplotlib->mmengine==0.10.7) (1.3.2)\n",
      "Requirement already satisfied: cycler>=0.10 in /opt/conda/envs/sapiens/lib/python3.10/site-packages (from matplotlib->mmengine==0.10.7) (0.12.1)\n",
      "Requirement already satisfied: fonttools>=4.22.0 in /opt/conda/envs/sapiens/lib/python3.10/site-packages (from matplotlib->mmengine==0.10.7) (4.59.2)\n",
      "Requirement already satisfied: kiwisolver>=1.3.1 in /opt/conda/envs/sapiens/lib/python3.10/site-packages (from matplotlib->mmengine==0.10.7) (1.4.9)\n",
      "Requirement already satisfied: packaging>=20.0 in /opt/conda/envs/sapiens/lib/python3.10/site-packages (from matplotlib->mmengine==0.10.7) (25.0)\n",
      "Requirement already satisfied: pillow>=8 in /opt/conda/envs/sapiens/lib/python3.10/site-packages (from matplotlib->mmengine==0.10.7) (11.1.0)\n",
      "Requirement already satisfied: pyparsing>=2.3.1 in /opt/conda/envs/sapiens/lib/python3.10/site-packages (from matplotlib->mmengine==0.10.7) (3.2.3)\n",
      "Requirement already satisfied: python-dateutil>=2.7 in /opt/conda/envs/sapiens/lib/python3.10/site-packages (from matplotlib->mmengine==0.10.7) (2.9.0.post0)\n",
      "Requirement already satisfied: six>=1.5 in /opt/conda/envs/sapiens/lib/python3.10/site-packages (from python-dateutil>=2.7->matplotlib->mmengine==0.10.7) (1.17.0)\n",
      "Collecting markdown-it-py>=2.2.0 (from rich->mmengine==0.10.7)\n",
      "  Downloading markdown_it_py-4.0.0-py3-none-any.whl.metadata (7.3 kB)\n",
      "Requirement already satisfied: pygments<3.0.0,>=2.13.0 in /opt/conda/envs/sapiens/lib/python3.10/site-packages (from rich->mmengine==0.10.7) (2.19.1)\n",
      "Collecting mdurl~=0.1 (from markdown-it-py>=2.2.0->rich->mmengine==0.10.7)\n",
      "  Downloading mdurl-0.1.2-py3-none-any.whl.metadata (1.6 kB)\n",
      "Requirement already satisfied: platformdirs>=3.5.1 in /opt/conda/envs/sapiens/lib/python3.10/site-packages (from yapf->mmengine==0.10.7) (4.3.7)\n",
      "Requirement already satisfied: tomli>=2.0.1 in /opt/conda/envs/sapiens/lib/python3.10/site-packages (from yapf->mmengine==0.10.7) (2.2.1)\n",
      "Downloading mmengine-0.10.7-py3-none-any.whl (452 kB)\n",
      "Downloading addict-2.4.0-py3-none-any.whl (3.8 kB)\n",
      "Downloading rich-14.1.0-py3-none-any.whl (243 kB)\n",
      "Downloading markdown_it_py-4.0.0-py3-none-any.whl (87 kB)\n",
      "Downloading mdurl-0.1.2-py3-none-any.whl (10.0 kB)\n",
      "Downloading termcolor-3.1.0-py3-none-any.whl (7.7 kB)\n",
      "Downloading yapf-0.43.0-py3-none-any.whl (256 kB)\n",
      "Installing collected packages: addict, yapf, termcolor, mdurl, markdown-it-py, rich, mmengine\n",
      "\u001b[2K   \u001b[90m━━━━━━━━━━━━━━━━━━━━━━━━━━━━━━━━━━━━━━━━\u001b[0m \u001b[32m7/7\u001b[0m [mmengine]6/7\u001b[0m [mmengine]\n",
      "\u001b[1A\u001b[2KSuccessfully installed addict-2.4.0 markdown-it-py-4.0.0 mdurl-0.1.2 mmengine-0.10.7 rich-14.1.0 termcolor-3.1.0 yapf-0.43.0\n",
      "\u001b[33mWARNING: Running pip as the 'root' user can result in broken permissions and conflicting behaviour with the system package manager, possibly rendering your system unusable. It is recommended to use a virtual environment instead: https://pip.pypa.io/warnings/venv. Use the --root-user-action option if you know what you are doing and want to suppress this warning.\u001b[0m\u001b[33m\n",
      "\u001b[0mLooking in indexes: https://mirror.kakao.com/pypi/simple/, https://pypi.org/simple/\n",
      "Looking in links: https://download.openmmlab.com/mmcv/dist/cu118/torch2.1/index.html\n",
      "Collecting mmcv==2.1.0\n",
      "  Downloading https://download.openmmlab.com/mmcv/dist/cu118/torch2.1.0/mmcv-2.1.0-cp310-cp310-manylinux1_x86_64.whl (99.3 MB)\n",
      "\u001b[2K     \u001b[90m━━━━━━━━━━━━━━━━━━━━━━━━━━━━━━━━━━━━━━━━\u001b[0m \u001b[32m99.3/99.3 MB\u001b[0m \u001b[31m38.0 MB/s\u001b[0m  \u001b[33m0:00:02\u001b[0mm0:00:01\u001b[0m00:01\u001b[0m\n",
      "\u001b[?25hRequirement already satisfied: addict in /opt/conda/envs/sapiens/lib/python3.10/site-packages (from mmcv==2.1.0) (2.4.0)\n",
      "Requirement already satisfied: mmengine>=0.3.0 in /opt/conda/envs/sapiens/lib/python3.10/site-packages (from mmcv==2.1.0) (0.10.7)\n",
      "Requirement already satisfied: numpy in /opt/conda/envs/sapiens/lib/python3.10/site-packages (from mmcv==2.1.0) (1.26.4)\n",
      "Requirement already satisfied: packaging in /opt/conda/envs/sapiens/lib/python3.10/site-packages (from mmcv==2.1.0) (25.0)\n",
      "Requirement already satisfied: Pillow in /opt/conda/envs/sapiens/lib/python3.10/site-packages (from mmcv==2.1.0) (11.1.0)\n",
      "Requirement already satisfied: pyyaml in /opt/conda/envs/sapiens/lib/python3.10/site-packages (from mmcv==2.1.0) (6.0.2)\n",
      "Requirement already satisfied: yapf in /opt/conda/envs/sapiens/lib/python3.10/site-packages (from mmcv==2.1.0) (0.43.0)\n",
      "Requirement already satisfied: opencv-python>=3 in /opt/conda/envs/sapiens/lib/python3.10/site-packages (from mmcv==2.1.0) (4.8.1.78)\n",
      "Requirement already satisfied: matplotlib in /opt/conda/envs/sapiens/lib/python3.10/site-packages (from mmengine>=0.3.0->mmcv==2.1.0) (3.10.5)\n",
      "Requirement already satisfied: rich in /opt/conda/envs/sapiens/lib/python3.10/site-packages (from mmengine>=0.3.0->mmcv==2.1.0) (14.1.0)\n",
      "Requirement already satisfied: termcolor in /opt/conda/envs/sapiens/lib/python3.10/site-packages (from mmengine>=0.3.0->mmcv==2.1.0) (3.1.0)\n",
      "Requirement already satisfied: contourpy>=1.0.1 in /opt/conda/envs/sapiens/lib/python3.10/site-packages (from matplotlib->mmengine>=0.3.0->mmcv==2.1.0) (1.3.2)\n",
      "Requirement already satisfied: cycler>=0.10 in /opt/conda/envs/sapiens/lib/python3.10/site-packages (from matplotlib->mmengine>=0.3.0->mmcv==2.1.0) (0.12.1)\n",
      "Requirement already satisfied: fonttools>=4.22.0 in /opt/conda/envs/sapiens/lib/python3.10/site-packages (from matplotlib->mmengine>=0.3.0->mmcv==2.1.0) (4.59.2)\n",
      "Requirement already satisfied: kiwisolver>=1.3.1 in /opt/conda/envs/sapiens/lib/python3.10/site-packages (from matplotlib->mmengine>=0.3.0->mmcv==2.1.0) (1.4.9)\n",
      "Requirement already satisfied: pyparsing>=2.3.1 in /opt/conda/envs/sapiens/lib/python3.10/site-packages (from matplotlib->mmengine>=0.3.0->mmcv==2.1.0) (3.2.3)\n",
      "Requirement already satisfied: python-dateutil>=2.7 in /opt/conda/envs/sapiens/lib/python3.10/site-packages (from matplotlib->mmengine>=0.3.0->mmcv==2.1.0) (2.9.0.post0)\n",
      "Requirement already satisfied: six>=1.5 in /opt/conda/envs/sapiens/lib/python3.10/site-packages (from python-dateutil>=2.7->matplotlib->mmengine>=0.3.0->mmcv==2.1.0) (1.17.0)\n",
      "Requirement already satisfied: markdown-it-py>=2.2.0 in /opt/conda/envs/sapiens/lib/python3.10/site-packages (from rich->mmengine>=0.3.0->mmcv==2.1.0) (4.0.0)\n",
      "Requirement already satisfied: pygments<3.0.0,>=2.13.0 in /opt/conda/envs/sapiens/lib/python3.10/site-packages (from rich->mmengine>=0.3.0->mmcv==2.1.0) (2.19.1)\n",
      "Requirement already satisfied: mdurl~=0.1 in /opt/conda/envs/sapiens/lib/python3.10/site-packages (from markdown-it-py>=2.2.0->rich->mmengine>=0.3.0->mmcv==2.1.0) (0.1.2)\n",
      "Requirement already satisfied: platformdirs>=3.5.1 in /opt/conda/envs/sapiens/lib/python3.10/site-packages (from yapf->mmcv==2.1.0) (4.3.7)\n",
      "Requirement already satisfied: tomli>=2.0.1 in /opt/conda/envs/sapiens/lib/python3.10/site-packages (from yapf->mmcv==2.1.0) (2.2.1)\n",
      "Installing collected packages: mmcv\n",
      "Successfully installed mmcv-2.1.0\n",
      "\u001b[33mWARNING: Running pip as the 'root' user can result in broken permissions and conflicting behaviour with the system package manager, possibly rendering your system unusable. It is recommended to use a virtual environment instead: https://pip.pypa.io/warnings/venv. Use the --root-user-action option if you know what you are doing and want to suppress this warning.\u001b[0m\u001b[33m\n",
      "\u001b[0mLooking in indexes: https://mirror.kakao.com/pypi/simple/, https://pypi.org/simple/\n",
      "Collecting mmdet==3.2.0\n",
      "  Downloading mmdet-3.2.0-py3-none-any.whl.metadata (32 kB)\n",
      "Collecting mmpose==1.3.2\n",
      "  Downloading mmpose-1.3.2-py2.py3-none-any.whl.metadata (29 kB)\n",
      "Requirement already satisfied: matplotlib in /opt/conda/envs/sapiens/lib/python3.10/site-packages (from mmdet==3.2.0) (3.10.5)\n",
      "Requirement already satisfied: numpy in /opt/conda/envs/sapiens/lib/python3.10/site-packages (from mmdet==3.2.0) (1.26.4)\n",
      "Requirement already satisfied: pycocotools in /opt/conda/envs/sapiens/lib/python3.10/site-packages (from mmdet==3.2.0) (2.0.10)\n",
      "Requirement already satisfied: scipy in /opt/conda/envs/sapiens/lib/python3.10/site-packages (from mmdet==3.2.0) (1.11.4)\n",
      "Requirement already satisfied: shapely in /opt/conda/envs/sapiens/lib/python3.10/site-packages (from mmdet==3.2.0) (2.1.1)\n",
      "Requirement already satisfied: six in /opt/conda/envs/sapiens/lib/python3.10/site-packages (from mmdet==3.2.0) (1.17.0)\n",
      "Collecting terminaltables (from mmdet==3.2.0)\n",
      "  Downloading terminaltables-3.1.10-py2.py3-none-any.whl.metadata (3.5 kB)\n",
      "Requirement already satisfied: tqdm in /opt/conda/envs/sapiens/lib/python3.10/site-packages (from mmdet==3.2.0) (4.65.2)\n",
      "Collecting chumpy (from mmpose==1.3.2)\n",
      "  Downloading chumpy-0.70.tar.gz (50 kB)\n",
      "  Preparing metadata (setup.py) ... \u001b[?25ldone\n",
      "\u001b[?25hRequirement already satisfied: json-tricks in /opt/conda/envs/sapiens/lib/python3.10/site-packages (from mmpose==1.3.2) (3.17.3)\n",
      "Collecting munkres (from mmpose==1.3.2)\n",
      "  Downloading munkres-1.1.4-py2.py3-none-any.whl.metadata (980 bytes)\n",
      "Requirement already satisfied: opencv-python in /opt/conda/envs/sapiens/lib/python3.10/site-packages (from mmpose==1.3.2) (4.8.1.78)\n",
      "Requirement already satisfied: pillow in /opt/conda/envs/sapiens/lib/python3.10/site-packages (from mmpose==1.3.2) (11.1.0)\n",
      "Requirement already satisfied: torchvision in /opt/conda/envs/sapiens/lib/python3.10/site-packages (from mmpose==1.3.2) (0.16.0+cu118)\n",
      "Requirement already satisfied: xtcocotools>=1.12 in /opt/conda/envs/sapiens/lib/python3.10/site-packages (from mmpose==1.3.2) (1.14.3)\n",
      "Requirement already satisfied: setuptools>=18.0 in /opt/conda/envs/sapiens/lib/python3.10/site-packages (from xtcocotools>=1.12->mmpose==1.3.2) (80.9.0)\n",
      "Requirement already satisfied: cython>=0.27.3 in /opt/conda/envs/sapiens/lib/python3.10/site-packages (from xtcocotools>=1.12->mmpose==1.3.2) (3.1.3)\n",
      "Requirement already satisfied: contourpy>=1.0.1 in /opt/conda/envs/sapiens/lib/python3.10/site-packages (from matplotlib->mmdet==3.2.0) (1.3.2)\n",
      "Requirement already satisfied: cycler>=0.10 in /opt/conda/envs/sapiens/lib/python3.10/site-packages (from matplotlib->mmdet==3.2.0) (0.12.1)\n",
      "Requirement already satisfied: fonttools>=4.22.0 in /opt/conda/envs/sapiens/lib/python3.10/site-packages (from matplotlib->mmdet==3.2.0) (4.59.2)\n",
      "Requirement already satisfied: kiwisolver>=1.3.1 in /opt/conda/envs/sapiens/lib/python3.10/site-packages (from matplotlib->mmdet==3.2.0) (1.4.9)\n",
      "Requirement already satisfied: packaging>=20.0 in /opt/conda/envs/sapiens/lib/python3.10/site-packages (from matplotlib->mmdet==3.2.0) (25.0)\n",
      "Requirement already satisfied: pyparsing>=2.3.1 in /opt/conda/envs/sapiens/lib/python3.10/site-packages (from matplotlib->mmdet==3.2.0) (3.2.3)\n",
      "Requirement already satisfied: python-dateutil>=2.7 in /opt/conda/envs/sapiens/lib/python3.10/site-packages (from matplotlib->mmdet==3.2.0) (2.9.0.post0)\n",
      "Requirement already satisfied: requests in /opt/conda/envs/sapiens/lib/python3.10/site-packages (from torchvision->mmpose==1.3.2) (2.32.4)\n",
      "Requirement already satisfied: torch==2.1.0 in /opt/conda/envs/sapiens/lib/python3.10/site-packages (from torchvision->mmpose==1.3.2) (2.1.0+cu118)\n",
      "Requirement already satisfied: filelock in /opt/conda/envs/sapiens/lib/python3.10/site-packages (from torch==2.1.0->torchvision->mmpose==1.3.2) (3.19.1)\n",
      "Requirement already satisfied: typing-extensions in /opt/conda/envs/sapiens/lib/python3.10/site-packages (from torch==2.1.0->torchvision->mmpose==1.3.2) (4.15.0)\n",
      "Requirement already satisfied: sympy in /opt/conda/envs/sapiens/lib/python3.10/site-packages (from torch==2.1.0->torchvision->mmpose==1.3.2) (1.14.0)\n",
      "Requirement already satisfied: networkx in /opt/conda/envs/sapiens/lib/python3.10/site-packages (from torch==2.1.0->torchvision->mmpose==1.3.2) (3.4.2)\n",
      "Requirement already satisfied: jinja2 in /opt/conda/envs/sapiens/lib/python3.10/site-packages (from torch==2.1.0->torchvision->mmpose==1.3.2) (3.1.6)\n",
      "Requirement already satisfied: fsspec in /opt/conda/envs/sapiens/lib/python3.10/site-packages (from torch==2.1.0->torchvision->mmpose==1.3.2) (2025.7.0)\n",
      "Requirement already satisfied: triton==2.1.0 in /opt/conda/envs/sapiens/lib/python3.10/site-packages (from torch==2.1.0->torchvision->mmpose==1.3.2) (2.1.0)\n",
      "Requirement already satisfied: MarkupSafe>=2.0 in /opt/conda/envs/sapiens/lib/python3.10/site-packages (from jinja2->torch==2.1.0->torchvision->mmpose==1.3.2) (3.0.2)\n",
      "Requirement already satisfied: charset_normalizer<4,>=2 in /opt/conda/envs/sapiens/lib/python3.10/site-packages (from requests->torchvision->mmpose==1.3.2) (3.3.2)\n",
      "Requirement already satisfied: idna<4,>=2.5 in /opt/conda/envs/sapiens/lib/python3.10/site-packages (from requests->torchvision->mmpose==1.3.2) (3.7)\n",
      "Requirement already satisfied: urllib3<3,>=1.21.1 in /opt/conda/envs/sapiens/lib/python3.10/site-packages (from requests->torchvision->mmpose==1.3.2) (2.5.0)\n",
      "Requirement already satisfied: certifi>=2017.4.17 in /opt/conda/envs/sapiens/lib/python3.10/site-packages (from requests->torchvision->mmpose==1.3.2) (2025.8.3)\n",
      "Requirement already satisfied: mpmath<1.4,>=1.1.0 in /opt/conda/envs/sapiens/lib/python3.10/site-packages (from sympy->torch==2.1.0->torchvision->mmpose==1.3.2) (1.3.0)\n",
      "Downloading mmdet-3.2.0-py3-none-any.whl (2.1 MB)\n",
      "\u001b[2K   \u001b[90m━━━━━━━━━━━━━━━━━━━━━━━━━━━━━━━━━━━━━━━━\u001b[0m \u001b[32m2.1/2.1 MB\u001b[0m \u001b[31m25.4 MB/s\u001b[0m  \u001b[33m0:00:00\u001b[0m\n",
      "\u001b[?25hDownloading mmpose-1.3.2-py2.py3-none-any.whl (1.7 MB)\n",
      "\u001b[2K   \u001b[90m━━━━━━━━━━━━━━━━━━━━━━━━━━━━━━━━━━━━━━━━\u001b[0m \u001b[32m1.7/1.7 MB\u001b[0m \u001b[31m71.6 MB/s\u001b[0m  \u001b[33m0:00:00\u001b[0m\n",
      "\u001b[?25hDownloading munkres-1.1.4-py2.py3-none-any.whl (7.0 kB)\n",
      "Downloading terminaltables-3.1.10-py2.py3-none-any.whl (15 kB)\n",
      "Building wheels for collected packages: chumpy\n",
      "\u001b[33m  DEPRECATION: Building 'chumpy' using the legacy setup.py bdist_wheel mechanism, which will be removed in a future version. pip 25.3 will enforce this behaviour change. A possible replacement is to use the standardized build interface by setting the `--use-pep517` option, (possibly combined with `--no-build-isolation`), or adding a `pyproject.toml` file to the source tree of 'chumpy'. Discussion can be found at https://github.com/pypa/pip/issues/6334\u001b[0m\u001b[33m\n",
      "\u001b[0m  Building wheel for chumpy (setup.py) ... \u001b[?25ldone\n",
      "\u001b[?25h  Created wheel for chumpy: filename=chumpy-0.70-py3-none-any.whl size=58303 sha256=b0fc043260af6035d3c0a1b45ade445c778470f8cc6a7a5155ca3e401c2f70e3\n",
      "  Stored in directory: /tmp/pip-ephem-wheel-cache-rhimv4nl/wheels/e0/c1/ef/29ba7be03653a29ef6f2c3e1956d6c4d8877f2b243af411db1\n",
      "Successfully built chumpy\n",
      "Installing collected packages: munkres, terminaltables, chumpy, mmdet, mmpose\n",
      "\u001b[2K   \u001b[90m━━━━━━━━━━━━━━━━━━━━━━━━━━━━━━━━━━━━━━━━\u001b[0m \u001b[32m5/5\u001b[0m [mmpose]2m4/5\u001b[0m [mmpose]\n",
      "\u001b[1A\u001b[2KSuccessfully installed chumpy-0.70 mmdet-3.2.0 mmpose-1.3.2 munkres-1.1.4 terminaltables-3.1.10\n",
      "\u001b[33mWARNING: Running pip as the 'root' user can result in broken permissions and conflicting behaviour with the system package manager, possibly rendering your system unusable. It is recommended to use a virtual environment instead: https://pip.pypa.io/warnings/venv. Use the --root-user-action option if you know what you are doing and want to suppress this warning.\u001b[0m\u001b[33m\n",
      "\u001b[0m"
     ]
    }
   ],
   "source": [
    "!pip install -U pip setuptools wheel --trusted-host pypi.org --trusted-host files.pythonhosted.org --trusted-host download.openmmlab.com --no-cache-dir\n",
    "!pip install torch==2.1.0 torchvision==0.16.0 torchaudio==2.1.0 --index-url https://download.pytorch.org/whl/cu118 --trusted-host download.pytorch.org --no-cache-dir\n",
    "!pip install mmengine==0.10.7 --trusted-host pypi.org --trusted-host files.pythonhosted.org --no-cache-dir\n",
    "!pip install mmcv==2.1.0 \\\n",
    "  --find-links https://download.openmmlab.com/mmcv/dist/cu118/torch2.1/index.html \\\n",
    "  --trusted-host download.openmmlab.com \\\n",
    "  --trusted-host pypi.org \\\n",
    "  --trusted-host files.pythonhosted.org \\\n",
    "  --no-cache-dir\n",
    "!pip install mmdet==3.2.0 mmpose==1.3.2 --trusted-host pypi.org --trusted-host files.pythonhosted.org --no-cache-dir\n"
   ]
  },
  {
   "cell_type": "markdown",
   "id": "edef0389",
   "metadata": {},
   "source": [
    "# 환경 확인"
   ]
  },
  {
   "cell_type": "code",
   "execution_count": 6,
   "id": "7d7219bb",
   "metadata": {},
   "outputs": [
    {
     "name": "stdout",
     "output_type": "stream",
     "text": [
      "torch: 2.1.0+cu118\n",
      "cuda in torch: 11.8\n",
      "cuda avail: True\n",
      "gpu: NVIDIA GeForce RTX 3090\n",
      "mmengine: 0.10.7\n",
      "mmcv: 2.1.0\n",
      "mmdet: 3.2.0\n",
      "mmpose: 1.3.2\n",
      "opencv: 4.8.1\n",
      "numpy: 1.26.4\n"
     ]
    }
   ],
   "source": [
    "import torch  # 토치 임포트\n",
    "import torchvision  # 토치비전\n",
    "import mmcv, mmengine  # MM 코어\n",
    "import mmdet, mmpose  # MM 상위\n",
    "import cv2, numpy  # OpenCV,Numpy\n",
    "\n",
    "print(\"torch:\", torch.__version__)  # 토치 버전\n",
    "print(\"cuda in torch:\", torch.version.cuda)  # 토치 CUDA\n",
    "print(\"cuda avail:\", torch.cuda.is_available())  # CUDA 가능\n",
    "if torch.cuda.is_available():  # GPU 이름 출력\n",
    "    print(\"gpu:\", torch.cuda.get_device_name(0))  # 장치 이름\n",
    "print(\"mmengine:\", mmengine.__version__)  # mmengine 버전\n",
    "print(\"mmcv:\", mmcv.__version__)  # mmcv 버전\n",
    "print(\"mmdet:\", mmdet.__version__)  # mmdet 버전\n",
    "print(\"mmpose:\", mmpose.__version__)  # mmpose 버전\n",
    "print(\"opencv:\", cv2.__version__)  # OpenCV 버전\n",
    "print(\"numpy:\", numpy.__version__)  # 넘파이 버전\n"
   ]
  },
  {
   "cell_type": "code",
   "execution_count": 7,
   "id": "53423b7a",
   "metadata": {},
   "outputs": [
    {
     "name": "stdout",
     "output_type": "stream",
     "text": [
      "nms keep: (tensor([[ 0.0000,  0.0000, 10.0000, 10.0000,  0.9000]]), tensor([0]))\n"
     ]
    }
   ],
   "source": [
    "# mmcv CUDA ops 간단 점검\n",
    "import torch  # 토치\n",
    "from mmcv.ops import nms  # NMS 연산\n",
    "boxes = torch.tensor([[0,0,10,10,0.9],[1,1,11,11,0.8]], dtype=torch.float32)  # 박스\n",
    "keep = nms(boxes[:,:4], boxes[:,4], 0.5)  # NMS 실행\n",
    "print(\"nms keep:\", keep)  # 결과 인덱스\n"
   ]
  },
  {
   "cell_type": "code",
   "execution_count": 8,
   "id": "05754460",
   "metadata": {},
   "outputs": [
    {
     "name": "stdout",
     "output_type": "stream",
     "text": [
      "mmpose api ok\n"
     ]
    },
    {
     "name": "stderr",
     "output_type": "stream",
     "text": [
      "/opt/conda/envs/sapiens/lib/python3.10/site-packages/mmengine/utils/package_utils.py:48: UserWarning: pkg_resources is deprecated as an API. See https://setuptools.pypa.io/en/latest/pkg_resources.html. The pkg_resources package is slated for removal as early as 2025-11-30. Refrain from using this package or pin to Setuptools<81.\n",
      "  from pkg_resources import DistributionNotFound, get_distribution\n"
     ]
    }
   ],
   "source": [
    "# OpenMMLab 모듈 임포트 스모크 테스트\n",
    "from mmpose.apis import inference_topdown, init_model  # API 임포트\n",
    "print(\"mmpose api ok\")  # OK 출력\n"
   ]
  },
  {
   "cell_type": "code",
   "execution_count": null,
   "id": "a368b861-2a9b-49a4-9b42-7d2f47274e6e",
   "metadata": {},
   "outputs": [],
   "source": []
  }
 ],
 "metadata": {
  "kernelspec": {
   "display_name": "Python (sapiens)",
   "language": "python",
   "name": "sapiens"
  },
  "language_info": {
   "codemirror_mode": {
    "name": "ipython",
    "version": 3
   },
   "file_extension": ".py",
   "mimetype": "text/x-python",
   "name": "python",
   "nbconvert_exporter": "python",
   "pygments_lexer": "ipython3",
   "version": "3.10.18"
  }
 },
 "nbformat": 4,
 "nbformat_minor": 5
}
