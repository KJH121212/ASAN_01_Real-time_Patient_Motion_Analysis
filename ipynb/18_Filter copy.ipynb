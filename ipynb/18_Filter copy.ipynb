{
 "cells": [
  {
   "cell_type": "markdown",
   "id": "083c0213",
   "metadata": {},
   "source": [
    "# 경로 지정"
   ]
  },
  {
   "cell_type": "code",
   "execution_count": 3,
   "id": "f6e187b9",
   "metadata": {},
   "outputs": [],
   "source": [
    "# 확인할 행 번호\n",
    "TARGET_ROW = 1084"
   ]
  },
  {
   "cell_type": "code",
   "execution_count": 4,
   "id": "99e534d0",
   "metadata": {},
   "outputs": [
    {
     "name": "stdout",
     "output_type": "stream",
     "text": [
      "✅ 존재: /workspace/nas203/ds_RehabilitationMedicineData/IDs/Kimjihoo/3_project_HCCmove/data/1_FRAME/sample_data/ICU_sample_video/경사진 침대에서 몸통 돌리기\n",
      "✅ 존재: /workspace/nas203/ds_RehabilitationMedicineData/IDs/Kimjihoo/3_project_HCCmove/data/2_KEYPOINTS/sample_data/ICU_sample_video/경사진 침대에서 몸통 돌리기\n",
      "📁 생성 완료: /workspace/nas203/ds_RehabilitationMedicineData/IDs/Kimjihoo/3_project_HCCmove/data/4_INTERP_DATA/sample_data/ICU_sample_video/경사진 침대에서 몸통 돌리기\n",
      "\n",
      "is_train = True\n",
      "🎯 현재 처리 대상: 경사진 침대에서 몸통 돌리기\n"
     ]
    }
   ],
   "source": [
    "import pandas as pd\n",
    "from pathlib import Path\n",
    "import shutil  # 파일 복사용\n",
    "\n",
    "# -------------------------------------------------------\n",
    "# 경로 설정\n",
    "# -------------------------------------------------------\n",
    "BASE_DIR = Path(\"/workspace/nas203/ds_RehabilitationMedicineData/IDs/Kimjihoo/3_project_HCCmove/data\")\n",
    "CSV_PATH = BASE_DIR / \"metadata_yolo_final.csv\"\n",
    "\n",
    "# -------------------------------------------------------\n",
    "# CSV 로드 및 행 접근\n",
    "# -------------------------------------------------------\n",
    "meta = pd.read_csv(CSV_PATH)\n",
    "\n",
    "# -------------------------------------------------------\n",
    "# 개별 경로 생성\n",
    "# -------------------------------------------------------\n",
    "FRAME_DIR = BASE_DIR / str(meta.loc[TARGET_ROW]['frame_path'])\n",
    "KEYPOINTS_DIR = BASE_DIR / str(meta.loc[TARGET_ROW]['keypoints_path'])\n",
    "INTERP_DIR = BASE_DIR / str(meta.loc[TARGET_ROW]['interp_json_path'])\n",
    "\n",
    "# -------------------------------------------------------\n",
    "# 존재 여부 확인 및 폴더 생성\n",
    "# -------------------------------------------------------\n",
    "for p in [FRAME_DIR, KEYPOINTS_DIR, INTERP_DIR]:\n",
    "    if not p.exists():\n",
    "        if p == INTERP_DIR:\n",
    "            p.mkdir(parents=True, exist_ok=True)\n",
    "            print(f\"📁 생성 완료: {p}\")\n",
    "        else:\n",
    "            print(f\"❌ 없음: {p}\")\n",
    "    else:\n",
    "        print(f\"✅ 존재: {p}\")\n",
    "\n",
    "print(f\"\\nis_train = {meta.loc[TARGET_ROW]['is_train']}\")\n",
    "print(f\"🎯 현재 처리 대상: {Path(FRAME_DIR).name}\")\n"
   ]
  },
  {
   "cell_type": "markdown",
   "id": "253db01d",
   "metadata": {},
   "source": [
    "# 함수"
   ]
  },
  {
   "cell_type": "markdown",
   "id": "d2b0b233",
   "metadata": {},
   "source": [
    "## Frame 시각화 함수"
   ]
  },
  {
   "cell_type": "markdown",
   "id": "7d3d01a6",
   "metadata": {},
   "source": [
    "## 선형 보간 함수"
   ]
  },
  {
   "cell_type": "markdown",
   "id": "f0537592",
   "metadata": {},
   "source": [
    "## IQR 시각화 함수"
   ]
  },
  {
   "cell_type": "markdown",
   "id": "a8ec3c89",
   "metadata": {},
   "source": [
    "## Velocity 시각화 함수"
   ]
  },
  {
   "cell_type": "markdown",
   "id": "c075119e",
   "metadata": {},
   "source": [
    "## smoothing 시각화 함수"
   ]
  },
  {
   "cell_type": "markdown",
   "id": "501b90ff",
   "metadata": {},
   "source": [
    "## 영상 생성 함수"
   ]
  },
  {
   "cell_type": "code",
   "execution_count": null,
   "id": "69c1715b",
   "metadata": {},
   "outputs": [],
   "source": [
    "import cv2\n",
    "import json\n",
    "import numpy as np\n",
    "from pathlib import Path\n",
    "from tqdm import tqdm\n",
    "\n",
    "# ===========================================================\n",
    "# 단일 Overlay 생성 함수\n",
    "# ===========================================================\n",
    "def create_overlay(frame_dir: str, json_dir: str, out_mp4: str, fps: int = 30,\n",
    "                   kp_radius: int = 4, line_thickness: int = 2):\n",
    "    \"\"\"\n",
    "    프레임 + keypoints JSON → overlay mp4 생성 (COCO 17kp 구조)\n",
    "    - 좌우 반전 없음\n",
    "    - 0~4번 keypoints 제외 (얼굴 제외)\n",
    "    - L/R 색상 구분\n",
    "    - 하단 안내문구 표시 (\"L: Blue | R: Red\")\n",
    "    \"\"\"\n",
    "\n",
    "    frame_files = sorted(Path(frame_dir).glob(\"*.jpg\"))\n",
    "    if not frame_files:\n",
    "        print(f\"[WARN] No frames found in {frame_dir}\")\n",
    "        return\n",
    "\n",
    "    out_mp4 = Path(out_mp4)\n",
    "    out_mp4.parent.mkdir(parents=True, exist_ok=True)\n",
    "\n",
    "    # 해상도 확인\n",
    "    sample = cv2.imread(str(frame_files[0]))\n",
    "    h, w = sample.shape[:2]\n",
    "    writer = cv2.VideoWriter(str(out_mp4), cv2.VideoWriter_fourcc(*\"mp4v\"), fps, (w, h))\n",
    "\n",
    "    # 색상 설정\n",
    "    COLOR_SK = (50, 50, 50)   # Skeleton = 짙은 회색\n",
    "    COLOR_L  = (255, 0, 0)    # 왼쪽 keypoints = 파랑\n",
    "    COLOR_R  = (0, 0, 255)    # 오른쪽 keypoints = 빨강\n",
    "    COLOR_NEUTRAL = (0, 255, 0) # 중앙부 keypoints = 초록\n",
    "\n",
    "    LEFT_POINTS  = [5,7,9,11,13,15]\n",
    "    RIGHT_POINTS = [6,8,10,12,14,16]\n",
    "\n",
    "    for frame_path in tqdm(frame_files, total=len(frame_files), desc=f\"{Path(frame_dir).name}\", unit=\"frame\"):\n",
    "        frame = cv2.imread(str(frame_path))\n",
    "        json_path = Path(json_dir) / (frame_path.stem + \".json\")\n",
    "\n",
    "        if json_path.exists():\n",
    "            with open(json_path, \"r\", encoding=\"utf-8\") as f:\n",
    "                data = json.load(f)\n",
    "\n",
    "            if \"instance_info\" in data and len(data[\"instance_info\"]) > 0:\n",
    "                inst = data[\"instance_info\"][0]\n",
    "                kpts = np.array(inst[\"keypoints\"])\n",
    "                skeleton = data.get(\"meta_info\", {}).get(\"skeleton_links\", [])\n",
    "\n",
    "                # Skeleton\n",
    "                for i, j in skeleton:\n",
    "                    if i < len(kpts) and j < len(kpts):\n",
    "                        if i < 5 or j < 5:\n",
    "                            continue\n",
    "                        pt1, pt2 = tuple(map(int, kpts[i])), tuple(map(int, kpts[j]))\n",
    "                        cv2.line(frame, pt1, pt2, COLOR_SK, line_thickness)\n",
    "\n",
    "                # Keypoints\n",
    "                for idx, (x, y) in enumerate(kpts):\n",
    "                    if idx < 5 or x <= 0 or y <= 0:\n",
    "                        continue\n",
    "                    if idx in LEFT_POINTS:\n",
    "                        color = COLOR_L\n",
    "                    elif idx in RIGHT_POINTS:\n",
    "                        color = COLOR_R\n",
    "                    else:\n",
    "                        color = COLOR_NEUTRAL\n",
    "                    cv2.circle(frame, (int(x), int(y)), kp_radius, color, -1)\n",
    "\n",
    "                # 안내 문구\n",
    "                legend_text = \"L: Blue   |   R: Red\"\n",
    "                cv2.putText(frame, legend_text, (20, h - 30),\n",
    "                            cv2.FONT_HERSHEY_SIMPLEX, 0.9, (255, 255, 255), 2, cv2.LINE_AA)\n",
    "\n",
    "        frame = cv2.flip(frame, 1)  # 좌우 반전 복원\n",
    "        writer.write(frame)\n",
    "\n",
    "    writer.release()\n",
    "    print(f\"✅ Overlay 완료 → {out_mp4}\")\n"
   ]
  }
 ],
 "metadata": {
  "kernelspec": {
   "display_name": "Python (sapiens)",
   "language": "python",
   "name": "sapiens"
  },
  "language_info": {
   "codemirror_mode": {
    "name": "ipython",
    "version": 3
   },
   "file_extension": ".py",
   "mimetype": "text/x-python",
   "name": "python",
   "nbconvert_exporter": "python",
   "pygments_lexer": "ipython3",
   "version": "3.10.13"
  }
 },
 "nbformat": 4,
 "nbformat_minor": 5
}
