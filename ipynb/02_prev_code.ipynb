{
 "cells": [
  {
   "cell_type": "markdown",
   "id": "7821398c",
   "metadata": {},
   "source": [
    "# 처음 인수인계 받은 코드"
   ]
  },
  {
   "cell_type": "markdown",
   "id": "13f32a93",
   "metadata": {},
   "source": [
    "## keypoints17.sh 그대로 활용\n",
    "경로만 변경하고 나머지 코드는 아무것도 건드리지 않음."
   ]
  },
  {
   "cell_type": "code",
   "execution_count": 6,
   "id": "e76f006a-3fc3-4ee5-92d4-f3b8489eb92b",
   "metadata": {},
   "outputs": [],
   "source": [
    "# 잘 돌아가는지 확인용"
   ]
  },
  {
   "cell_type": "code",
   "execution_count": 5,
   "id": "96b6bc25-defa-477f-81c6-d79cc4f38187",
   "metadata": {},
   "outputs": [
    {
     "name": "stdout",
     "output_type": "stream",
     "text": [
      "Distributing 9386 image paths into 1 jobs.\n"
     ]
    },
    {
     "name": "stderr",
     "output_type": "stream",
     "text": [
      "/opt/conda/lib/python3.10/site-packages/mmengine/utils/package_utils.py:48: UserWarning: pkg_resources is deprecated as an API. See https://setuptools.pypa.io/en/latest/pkg_resources.html. The pkg_resources package is slated for removal as early as 2025-11-30. Refrain from using this package or pin to Setuptools<81.\n",
      "  from pkg_resources import DistributionNotFound, get_distribution\n",
      "/opt/conda/lib/python3.10/importlib/__init__.py:169: UserWarning: pkg_resources is deprecated as an API. See https://setuptools.pypa.io/en/latest/pkg_resources.html. The pkg_resources package is slated for removal as early as 2025-11-30. Refrain from using this package or pin to Setuptools<81.\n",
      "  _bootstrap._exec(spec, module)\n"
     ]
    },
    {
     "name": "stdout",
     "output_type": "stream",
     "text": [
      "Loads checkpoint by local backend from path: /workspace/nas203/ds_RehabilitationMedicineData/IDs/Kimjihoo/3_project_HCCmove/sapiens/pose/checkpoints/rtmdet_m_8xb32-100e_coco-obj365-person-235e8209.pth\n",
      "Loads checkpoint by local backend from path: /workspace/nas203/ds_RehabilitationMedicineData/IDs/Kimjihoo/3_project_HCCmove/sapiens/pose/checkpoints/sapiens_0.3b/sapiens_0.3b_coco_best_coco_AP_796.pth\n",
      "The model and loaded state dict do not match exactly\n",
      "\n",
      "missing keys in source state_dict: head.deconv_layers.1.weight, head.deconv_layers.1.bias, head.deconv_layers.1.running_mean, head.deconv_layers.1.running_var, head.deconv_layers.4.weight, head.deconv_layers.4.bias, head.deconv_layers.4.running_mean, head.deconv_layers.4.running_var, head.conv_layers.1.weight, head.conv_layers.1.bias, head.conv_layers.1.running_mean, head.conv_layers.1.running_var, head.conv_layers.4.weight, head.conv_layers.4.bias, head.conv_layers.4.running_mean, head.conv_layers.4.running_var\n",
      "\n"
     ]
    },
    {
     "name": "stderr",
     "output_type": "stream",
     "text": [
      "  1%|          | 99/9386 [02:20<4:22:45,  1.70s/it]"
     ]
    },
    {
     "ename": "KeyboardInterrupt",
     "evalue": "",
     "output_type": "error",
     "traceback": [
      "\u001b[0;31m---------------------------------------------------------------------------\u001b[0m",
      "\u001b[0;31mKeyboardInterrupt\u001b[0m                         Traceback (most recent call last)",
      "Cell \u001b[0;32mIn[5], line 11\u001b[0m\n\u001b[1;32m      9\u001b[0m \u001b[38;5;66;03m# keypoints17.sh 실행\u001b[39;00m\n\u001b[1;32m     10\u001b[0m \u001b[38;5;28;01mtry\u001b[39;00m:\n\u001b[0;32m---> 11\u001b[0m     \u001b[43msubprocess\u001b[49m\u001b[38;5;241;43m.\u001b[39;49m\u001b[43mrun\u001b[49m\u001b[43m(\u001b[49m\u001b[43m[\u001b[49m\n\u001b[1;32m     12\u001b[0m \u001b[43m        \u001b[49m\u001b[38;5;124;43m\"\u001b[39;49m\u001b[38;5;124;43mbash\u001b[39;49m\u001b[38;5;124;43m\"\u001b[39;49m\u001b[43m,\u001b[49m\n\u001b[1;32m     13\u001b[0m \u001b[43m        \u001b[49m\u001b[38;5;124;43m\"\u001b[39;49m\u001b[38;5;124;43m../sapiens/pose/scripts/demo/local/keypoints17.sh\u001b[39;49m\u001b[38;5;124;43m\"\u001b[39;49m\u001b[43m,\u001b[49m\u001b[43m  \u001b[49m\u001b[38;5;66;43;03m# 수정된 스크립트 경로\u001b[39;49;00m\n\u001b[1;32m     14\u001b[0m \u001b[43m        \u001b[49m\u001b[43mINPUT\u001b[49m\u001b[43m,\u001b[49m\n\u001b[1;32m     15\u001b[0m \u001b[43m        \u001b[49m\u001b[43mOUTPUT\u001b[49m\n\u001b[1;32m     16\u001b[0m \u001b[43m    \u001b[49m\u001b[43m]\u001b[49m\u001b[43m,\u001b[49m\u001b[43m \u001b[49m\u001b[43mcheck\u001b[49m\u001b[38;5;241;43m=\u001b[39;49m\u001b[38;5;28;43;01mTrue\u001b[39;49;00m\u001b[43m)\u001b[49m\n\u001b[1;32m     17\u001b[0m     \u001b[38;5;28mprint\u001b[39m(\u001b[38;5;124mf\u001b[39m\u001b[38;5;124m\"\u001b[39m\u001b[38;5;124m[완료] Pose inference 성공!\u001b[39m\u001b[38;5;130;01m\\n\u001b[39;00m\u001b[38;5;124m결과 경로: \u001b[39m\u001b[38;5;132;01m{\u001b[39;00mOUTPUT\u001b[38;5;132;01m}\u001b[39;00m\u001b[38;5;124m\"\u001b[39m)\n\u001b[1;32m     18\u001b[0m \u001b[38;5;28;01mexcept\u001b[39;00m subprocess\u001b[38;5;241m.\u001b[39mCalledProcessError \u001b[38;5;28;01mas\u001b[39;00m e:\n",
      "File \u001b[0;32m/opt/conda/lib/python3.10/subprocess.py:505\u001b[0m, in \u001b[0;36mrun\u001b[0;34m(input, capture_output, timeout, check, *popenargs, **kwargs)\u001b[0m\n\u001b[1;32m    503\u001b[0m \u001b[38;5;28;01mwith\u001b[39;00m Popen(\u001b[38;5;241m*\u001b[39mpopenargs, \u001b[38;5;241m*\u001b[39m\u001b[38;5;241m*\u001b[39mkwargs) \u001b[38;5;28;01mas\u001b[39;00m process:\n\u001b[1;32m    504\u001b[0m     \u001b[38;5;28;01mtry\u001b[39;00m:\n\u001b[0;32m--> 505\u001b[0m         stdout, stderr \u001b[38;5;241m=\u001b[39m \u001b[43mprocess\u001b[49m\u001b[38;5;241;43m.\u001b[39;49m\u001b[43mcommunicate\u001b[49m\u001b[43m(\u001b[49m\u001b[38;5;28;43minput\u001b[39;49m\u001b[43m,\u001b[49m\u001b[43m \u001b[49m\u001b[43mtimeout\u001b[49m\u001b[38;5;241;43m=\u001b[39;49m\u001b[43mtimeout\u001b[49m\u001b[43m)\u001b[49m\n\u001b[1;32m    506\u001b[0m     \u001b[38;5;28;01mexcept\u001b[39;00m TimeoutExpired \u001b[38;5;28;01mas\u001b[39;00m exc:\n\u001b[1;32m    507\u001b[0m         process\u001b[38;5;241m.\u001b[39mkill()\n",
      "File \u001b[0;32m/opt/conda/lib/python3.10/subprocess.py:1146\u001b[0m, in \u001b[0;36mPopen.communicate\u001b[0;34m(self, input, timeout)\u001b[0m\n\u001b[1;32m   1144\u001b[0m         stderr \u001b[38;5;241m=\u001b[39m \u001b[38;5;28mself\u001b[39m\u001b[38;5;241m.\u001b[39mstderr\u001b[38;5;241m.\u001b[39mread()\n\u001b[1;32m   1145\u001b[0m         \u001b[38;5;28mself\u001b[39m\u001b[38;5;241m.\u001b[39mstderr\u001b[38;5;241m.\u001b[39mclose()\n\u001b[0;32m-> 1146\u001b[0m     \u001b[38;5;28;43mself\u001b[39;49m\u001b[38;5;241;43m.\u001b[39;49m\u001b[43mwait\u001b[49m\u001b[43m(\u001b[49m\u001b[43m)\u001b[49m\n\u001b[1;32m   1147\u001b[0m \u001b[38;5;28;01melse\u001b[39;00m:\n\u001b[1;32m   1148\u001b[0m     \u001b[38;5;28;01mif\u001b[39;00m timeout \u001b[38;5;129;01mis\u001b[39;00m \u001b[38;5;129;01mnot\u001b[39;00m \u001b[38;5;28;01mNone\u001b[39;00m:\n",
      "File \u001b[0;32m/opt/conda/lib/python3.10/subprocess.py:1209\u001b[0m, in \u001b[0;36mPopen.wait\u001b[0;34m(self, timeout)\u001b[0m\n\u001b[1;32m   1207\u001b[0m     endtime \u001b[38;5;241m=\u001b[39m _time() \u001b[38;5;241m+\u001b[39m timeout\n\u001b[1;32m   1208\u001b[0m \u001b[38;5;28;01mtry\u001b[39;00m:\n\u001b[0;32m-> 1209\u001b[0m     \u001b[38;5;28;01mreturn\u001b[39;00m \u001b[38;5;28;43mself\u001b[39;49m\u001b[38;5;241;43m.\u001b[39;49m\u001b[43m_wait\u001b[49m\u001b[43m(\u001b[49m\u001b[43mtimeout\u001b[49m\u001b[38;5;241;43m=\u001b[39;49m\u001b[43mtimeout\u001b[49m\u001b[43m)\u001b[49m\n\u001b[1;32m   1210\u001b[0m \u001b[38;5;28;01mexcept\u001b[39;00m \u001b[38;5;167;01mKeyboardInterrupt\u001b[39;00m:\n\u001b[1;32m   1211\u001b[0m     \u001b[38;5;66;03m# https://bugs.python.org/issue25942\u001b[39;00m\n\u001b[1;32m   1212\u001b[0m     \u001b[38;5;66;03m# The first keyboard interrupt waits briefly for the child to\u001b[39;00m\n\u001b[1;32m   1213\u001b[0m     \u001b[38;5;66;03m# exit under the common assumption that it also received the ^C\u001b[39;00m\n\u001b[1;32m   1214\u001b[0m     \u001b[38;5;66;03m# generated SIGINT and will exit rapidly.\u001b[39;00m\n\u001b[1;32m   1215\u001b[0m     \u001b[38;5;28;01mif\u001b[39;00m timeout \u001b[38;5;129;01mis\u001b[39;00m \u001b[38;5;129;01mnot\u001b[39;00m \u001b[38;5;28;01mNone\u001b[39;00m:\n",
      "File \u001b[0;32m/opt/conda/lib/python3.10/subprocess.py:1959\u001b[0m, in \u001b[0;36mPopen._wait\u001b[0;34m(self, timeout)\u001b[0m\n\u001b[1;32m   1957\u001b[0m \u001b[38;5;28;01mif\u001b[39;00m \u001b[38;5;28mself\u001b[39m\u001b[38;5;241m.\u001b[39mreturncode \u001b[38;5;129;01mis\u001b[39;00m \u001b[38;5;129;01mnot\u001b[39;00m \u001b[38;5;28;01mNone\u001b[39;00m:\n\u001b[1;32m   1958\u001b[0m     \u001b[38;5;28;01mbreak\u001b[39;00m  \u001b[38;5;66;03m# Another thread waited.\u001b[39;00m\n\u001b[0;32m-> 1959\u001b[0m (pid, sts) \u001b[38;5;241m=\u001b[39m \u001b[38;5;28;43mself\u001b[39;49m\u001b[38;5;241;43m.\u001b[39;49m\u001b[43m_try_wait\u001b[49m\u001b[43m(\u001b[49m\u001b[38;5;241;43m0\u001b[39;49m\u001b[43m)\u001b[49m\n\u001b[1;32m   1960\u001b[0m \u001b[38;5;66;03m# Check the pid and loop as waitpid has been known to\u001b[39;00m\n\u001b[1;32m   1961\u001b[0m \u001b[38;5;66;03m# return 0 even without WNOHANG in odd situations.\u001b[39;00m\n\u001b[1;32m   1962\u001b[0m \u001b[38;5;66;03m# http://bugs.python.org/issue14396.\u001b[39;00m\n\u001b[1;32m   1963\u001b[0m \u001b[38;5;28;01mif\u001b[39;00m pid \u001b[38;5;241m==\u001b[39m \u001b[38;5;28mself\u001b[39m\u001b[38;5;241m.\u001b[39mpid:\n",
      "File \u001b[0;32m/opt/conda/lib/python3.10/subprocess.py:1917\u001b[0m, in \u001b[0;36mPopen._try_wait\u001b[0;34m(self, wait_flags)\u001b[0m\n\u001b[1;32m   1915\u001b[0m \u001b[38;5;250m\u001b[39m\u001b[38;5;124;03m\"\"\"All callers to this function MUST hold self._waitpid_lock.\"\"\"\u001b[39;00m\n\u001b[1;32m   1916\u001b[0m \u001b[38;5;28;01mtry\u001b[39;00m:\n\u001b[0;32m-> 1917\u001b[0m     (pid, sts) \u001b[38;5;241m=\u001b[39m \u001b[43mos\u001b[49m\u001b[38;5;241;43m.\u001b[39;49m\u001b[43mwaitpid\u001b[49m\u001b[43m(\u001b[49m\u001b[38;5;28;43mself\u001b[39;49m\u001b[38;5;241;43m.\u001b[39;49m\u001b[43mpid\u001b[49m\u001b[43m,\u001b[49m\u001b[43m \u001b[49m\u001b[43mwait_flags\u001b[49m\u001b[43m)\u001b[49m\n\u001b[1;32m   1918\u001b[0m \u001b[38;5;28;01mexcept\u001b[39;00m \u001b[38;5;167;01mChildProcessError\u001b[39;00m:\n\u001b[1;32m   1919\u001b[0m     \u001b[38;5;66;03m# This happens if SIGCLD is set to be ignored or waiting\u001b[39;00m\n\u001b[1;32m   1920\u001b[0m     \u001b[38;5;66;03m# for child processes has otherwise been disabled for our\u001b[39;00m\n\u001b[1;32m   1921\u001b[0m     \u001b[38;5;66;03m# process.  This child is dead, we can't get the status.\u001b[39;00m\n\u001b[1;32m   1922\u001b[0m     pid \u001b[38;5;241m=\u001b[39m \u001b[38;5;28mself\u001b[39m\u001b[38;5;241m.\u001b[39mpid\n",
      "\u001b[0;31mKeyboardInterrupt\u001b[0m: "
     ]
    },
    {
     "name": "stderr",
     "output_type": "stream",
     "text": [
      "  1%|          | 99/9386 [02:22<3:42:37,  1.44s/it]\n",
      "Traceback (most recent call last):\n",
      "  File \"/workspace/nas203/ds_RehabilitationMedicineData/IDs/Kimjihoo/3_project_HCCmove/sapiens/pose/demo/demo_vis.py\", line 246, in <module>\n",
      "    main()\n",
      "  File \"/workspace/nas203/ds_RehabilitationMedicineData/IDs/Kimjihoo/3_project_HCCmove/sapiens/pose/demo/demo_vis.py\", line 227, in main\n",
      "    pred_instances = process_one_image(args, image_path, detector, pose_estimator, visualizer)\n",
      "  File \"/workspace/nas203/ds_RehabilitationMedicineData/IDs/Kimjihoo/3_project_HCCmove/sapiens/pose/demo/demo_vis.py\", line 55, in process_one_image\n",
      "    pose_results = inference_topdown(pose_estimator, img, bboxes)\n",
      "  File \"/opt/conda/lib/python3.10/site-packages/mmpose/apis/inference.py\", line 196, in inference_topdown\n",
      "    results = model.test_step(batch)\n",
      "  File \"/opt/conda/lib/python3.10/site-packages/mmengine/model/base_model/base_model.py\", line 145, in test_step\n",
      "    return self._run_forward(data, mode='predict')  # type: ignore\n",
      "  File \"/opt/conda/lib/python3.10/site-packages/mmengine/model/base_model/base_model.py\", line 361, in _run_forward\n",
      "    results = self(**data, mode=mode)\n",
      "  File \"/opt/conda/lib/python3.10/site-packages/torch/nn/modules/module.py\", line 1518, in _wrapped_call_impl\n",
      "    return self._call_impl(*args, **kwargs)\n",
      "  File \"/opt/conda/lib/python3.10/site-packages/torch/nn/modules/module.py\", line 1527, in _call_impl\n",
      "    return forward_call(*args, **kwargs)\n",
      "  File \"/opt/conda/lib/python3.10/site-packages/mmpose/models/pose_estimators/base.py\", line 161, in forward\n",
      "    return self.predict(inputs, data_samples)\n",
      "  File \"/opt/conda/lib/python3.10/site-packages/mmpose/models/pose_estimators/topdown.py\", line 109, in predict\n",
      "    preds = self.head.predict(feats, data_samples, test_cfg=self.test_cfg)\n",
      "  File \"/opt/conda/lib/python3.10/site-packages/mmpose/models/heads/heatmap_heads/heatmap_head.py\", line 259, in predict\n",
      "    _batch_heatmaps_flip = flip_heatmaps(\n",
      "  File \"/opt/conda/lib/python3.10/site-packages/mmpose/models/utils/tta.py\", line 64, in flip_heatmaps\n",
      "    if shift_heatmap:\n",
      "KeyboardInterrupt\n"
     ]
    }
   ],
   "source": [
    "import subprocess\n",
    "\n",
    "# 입력: 프레임 이미지가 들어있는 디렉토리\n",
    "INPUT = \"/workspace/nas203/ds_RehabilitationMedicineData/data/김원 보산진 연구/resize/M03VISIT6하지resized_frames\"\n",
    "\n",
    "# 출력: JSON이 저장될 디렉토리 (스크립트에서 MODEL_NAME 하위폴더 자동 생성됨)\n",
    "OUTPUT = \"../data/Patient_data/sapiens_output/M03VISIT6하지resized_JSON\"\n",
    "\n",
    "# keypoints17.sh 실행\n",
    "try:\n",
    "    subprocess.run([\n",
    "        \"bash\",\n",
    "        \"../sapiens/pose/scripts/demo/local/keypoints17.sh\",  # 수정된 스크립트 경로\n",
    "        INPUT,\n",
    "        OUTPUT\n",
    "    ], check=True)\n",
    "    print(f\"[완료] Pose inference 성공!\\n결과 경로: {OUTPUT}\")\n",
    "except subprocess.CalledProcessError as e:\n",
    "    print(\"[실패] 스크립트 실행 에러 발생\")\n",
    "    print(\"에러 코드:\", e.returncode)\n",
    "    print(\"명령어:\", e.cmd)\n",
    "    if e.output:\n",
    "        print(\"출력 로그:\", e.output.decode(\"utf-8\", errors=\"ignore\"))\n"
   ]
  },
  {
   "cell_type": "markdown",
   "id": "e665e2e3",
   "metadata": {},
   "source": [
    "## MP4 생성\n",
    "생성된 output을 가지고 MP4 생성.  \n",
    "keypoints.sh를 돌리면 json이랑 image 가 같이 출력되기 때문에 해당 파일 경로만 넣어주면 빠르게 mp4 생성 가능."
   ]
  },
  {
   "cell_type": "code",
   "execution_count": 10,
   "id": "005166f8-5109-4e3a-a17b-cf1566bcdeff",
   "metadata": {},
   "outputs": [
    {
     "name": "stderr",
     "output_type": "stream",
     "text": [
      "비디오 생성 중: 100% 11370/11370 [03:20<00:00, 56.77frame/s]"
     ]
    },
    {
     "name": "stdout",
     "output_type": "stream",
     "text": [
      "비디오 저장 완료: ../data/test_patient_image/first_test_image.mp4\n"
     ]
    },
    {
     "name": "stderr",
     "output_type": "stream",
     "text": [
      "\n"
     ]
    }
   ],
   "source": [
    "import os                                                      # 경로 결합과 존재 여부 확인을 위해 os 모듈을 임포트합니다.\n",
    "import re                                                      # 사람 친화 정렬을 위한 정규식 분해에 re 모듈을 임포트합니다.\n",
    "import cv2                                                     # 이미지 로드와 그리기 및 비디오 인코딩을 위해 OpenCV를 임포트합니다.\n",
    "import json                                                    # JSON 파싱을 위해 json 모듈을 임포트합니다.\n",
    "from glob import glob                                          # 와일드카드 파일 수집을 위해 glob 함수를 임포트합니다.\n",
    "from pathlib import Path                                       # 경로 객체와 상위 디렉터리 생성에 Path 클래스를 임포트합니다.\n",
    "from tqdm import tqdm                                          # 진행률 표시를 위해 tqdm을 임포트합니다.\n",
    "\n",
    "# ===== 입력/출력 경로 =====\n",
    "OUTPUT = \"../../../../data/김원 보산진 연구/resize/M01VISIT2상지resized_frames_out/sapiens_1b\"  # 이미지와 JSON이 함께 있는 폴더 경로를 지정합니다.\n",
    "SAVE_VIDEO = \"../data/test_patient_image/first_test_image.mp4\"  # 출력 비디오 경로에 .mp4 확장자를 명시합니다.\n",
    "\n",
    "# ===== 파라미터(그림 옵션) =====\n",
    "KPT_THR        = 0.01                                          # 키포인트 점수 임계값을 지정합니다.\n",
    "KEYPOINT_COLOR = (0, 255, 0)                                   # 키포인트 점 색을 BGR 기준으로 지정합니다.\n",
    "SKELETON_COLOR = (255, 0, 0)                                   # 뼈대 선 색을 BGR 기준으로 지정합니다.\n",
    "RADIUS         = 4                                             # 키포인트 점의 반지름을 픽셀 단위로 지정합니다.\n",
    "THICKNESS      = 2                                             # 뼈대 선의 두께를 픽셀 단위로 지정합니다.\n",
    "LINE_TYPE      = cv2.LINE_AA                                   # 안티앨리어싱 라인 타입을 설정합니다.\n",
    "FPS_OUT        = 30                                            # 출력 비디오의 FPS를 지정합니다.\n",
    "\n",
    "# ===== 자연 정렬 유틸 =====\n",
    "def natural_key(s: str):                                       # 파일명을 숫자 인식 자연 정렬하기 위한 키 함수를 정의합니다.\n",
    "    base = os.path.basename(s)                                 # 경로에서 파일명만 추출합니다.\n",
    "    return [int(t) if t.isdigit() else t.lower()               # 숫자는 정수로, 문자는 소문자로 변환해 비교 키를 만듭니다.\n",
    "            for t in re.split(r'(\\d+)', base)]                 # 숫자와 문자의 경계 기준으로 분할합니다.\n",
    "\n",
    "# ===== skeleton 링크 안전 추출 =====\n",
    "def get_links(meta: dict):                                     # 메타 정보에서 스켈레톤 링크를 안전하게 꺼내는 함수를 정의합니다.\n",
    "    raw = meta.get(\"skeleton_links\", meta.get(\"skeleton\", [])) # 새 키(skeleton_links) 또는 구 키(skeleton)에서 원본 리스트를 가져옵니다.\n",
    "    links = []                                                 # 정규화된 링크를 저장할 리스트를 준비합니다.\n",
    "    for item in raw:                                           # 원본 리스트의 항목을 순회합니다.\n",
    "        if isinstance(item, dict) and \"link\" in item:          # 딕셔너리 형태 { \"link\": [i, j] }를 처리합니다.\n",
    "            i, j = item[\"link\"]                                # 링크 쌍을 꺼냅니다.\n",
    "            links.append((int(i), int(j)))                     # 정수 인덱스 쌍으로 변환해 추가합니다.\n",
    "        elif isinstance(item, (list, tuple)) and len(item) == 2:  # 리스트/튜플 형태 [i, j]를 처리합니다.\n",
    "            i, j = item                                        # 두 인덱스를 언팩합니다.\n",
    "            links.append((int(i), int(j)))                     # 정수 인덱스 쌍으로 변환해 추가합니다.\n",
    "    return links                                               # 정규화된 링크 리스트를 반환합니다.\n",
    "\n",
    "# ===== 파일 수집 및 매핑 =====\n",
    "image_files = sorted(                                          # 이미지 파일 목록을 자연 정렬로 수집합니다.\n",
    "    glob(os.path.join(OUTPUT, \"*.jpg\")) +                      # JPG 파일을 포함합니다.\n",
    "    glob(os.path.join(OUTPUT, \"*.jpeg\")) +                     # JPEG 파일을 포함합니다.\n",
    "    glob(os.path.join(OUTPUT, \"*.png\")),                       # PNG 파일을 포함합니다.\n",
    "    key=natural_key                                            # 자연 정렬 키를 사용합니다.\n",
    ")\n",
    "json_files = sorted(                                           # JSON 파일 목록을 자연 정렬로 수집합니다.\n",
    "    glob(os.path.join(OUTPUT, \"*.json\")),                      # 폴더 내 모든 JSON을 찾습니다.\n",
    "    key=natural_key                                            # 자연 정렬 키를 사용합니다.\n",
    ")\n",
    "assert image_files, f\"이미지 파일이 없습니다: {OUTPUT}\"          # 이미지가 하나도 없으면 중단합니다.\n",
    "assert json_files, f\"JSON 파일이 없습니다: {OUTPUT}\"             # JSON이 하나도 없으면 중단합니다.\n",
    "\n",
    "json_map = {Path(p).stem: p for p in json_files}               # 파일명(확장자 제외)을 키로 JSON 경로를 매핑합니다.\n",
    "meta_probe = next(iter(json_map.values()))                     # 메타 추출을 위해 임의의 첫 JSON 경로를 선택합니다.\n",
    "with open(meta_probe, \"r\", encoding=\"utf-8\") as f:             # 선택한 JSON 파일을 엽니다.\n",
    "    meta = json.load(f).get(\"meta_info\", {})                   # meta_info 블록을 안전하게 읽어옵니다.\n",
    "skeleton_links = get_links(meta)                               # 안전 추출 함수로 스켈레톤 링크를 얻습니다.\n",
    "\n",
    "# ===== 비디오 라이터 초기화 =====\n",
    "first_frame = cv2.imread(image_files[0])                       # 첫 번째 이미지를 로드해 해상도를 확인합니다.\n",
    "assert first_frame is not None, f\"첫 프레임 로드 실패: {image_files[0]}\"  # 첫 프레임을 못 읽으면 중단합니다.\n",
    "h, w = first_frame.shape[:2]                                   # 프레임의 높이와 너비를 얻습니다.\n",
    "Path(Path(SAVE_VIDEO).parent).mkdir(parents=True, exist_ok=True)  # 출력 비디오 상위 폴더를 미리 생성합니다.\n",
    "fourcc = cv2.VideoWriter_fourcc(*\"mp4v\")                       # mp4v 코덱 식별자를 생성합니다.\n",
    "out = cv2.VideoWriter(SAVE_VIDEO, fourcc, FPS_OUT, (w, h))     # 지정 FPS와 해상도로 비디오 라이터를 생성합니다.\n",
    "assert out.isOpened(), f\"비디오 라이터 오픈 실패: {SAVE_VIDEO}\"   # 라이터가 정상적으로 열렸는지 확인합니다.\n",
    "\n",
    "# ===== 프레임 단위로 처리 =====\n",
    "for img_path in tqdm(image_files, desc=\"비디오 생성 중\", unit=\"frame\"):  # 이미지 목록을 순회하며 진행률을 표시합니다.\n",
    "    img = cv2.imread(img_path)                                   # 현재 이미지를 로드합니다.\n",
    "    if img is None:                                              # 이미지 로드 실패를 점검합니다.\n",
    "        print(f\"[경고] 이미지 로드 실패: {img_path}\")              # 경고 메시지를 출력합니다.\n",
    "        continue                                                 # 실패한 프레임은 건너뜁니다.\n",
    "    if img.shape[:2] != (h, w):                                  # 현재 이미지의 해상도가 기준과 다르면\n",
    "        img = cv2.resize(img, (w, h), interpolation=cv2.INTER_AREA)  # 비디오 해상도에 맞게 리사이즈합니다.\n",
    "\n",
    "    stem = Path(img_path).stem                                   # 이미지 파일의 이름(확장자 제외)을 가져옵니다.\n",
    "    jpath = json_map.get(stem)                                   # 동일 이름의 JSON 경로를 조회합니다.\n",
    "    if jpath is None:                                            # 매칭 JSON이 없을 때를 처리합니다.\n",
    "        print(f\"[경고] 매칭 JSON 없음: {stem}.json\")               # 경고 메시지를 출력합니다.\n",
    "        out.write(img)                                           # JSON이 없어도 원본 프레임을 비디오에 기록합니다.\n",
    "        continue                                                 # 다음 프레임으로 넘어갑니다.\n",
    "\n",
    "    try:                                                         # JSON 파싱 시 예외에 대비합니다.\n",
    "        with open(jpath, \"r\", encoding=\"utf-8\") as f:            # 매칭 JSON 파일을 엽니다.\n",
    "            data = json.load(f)                                  # JSON 내용을 파싱합니다.\n",
    "    except Exception as e:                                       # 예외를 포착합니다.\n",
    "        print(f\"[경고] JSON 파싱 실패: {jpath} ({e})\")             # 경고 메시지를 출력합니다.\n",
    "        out.write(img)                                           # 파싱 실패 시에도 원본 프레임을 기록합니다.\n",
    "        continue                                                 # 다음 프레임으로 넘어갑니다.\n",
    "\n",
    "    for person in data.get(\"instance_info\", []):                 # 각 사람 인스턴스를 순회합니다.\n",
    "        kpts = person.get(\"keypoints\", [])                       # 키포인트 좌표 목록을 가져옵니다.\n",
    "        scores = person.get(\"keypoint_scores\", [])               # 키포인트 점수 목록을 가져옵니다.\n",
    "        for (x, y), score in zip(kpts, scores):                  # 점 좌표와 점수를 함께 순회합니다.\n",
    "            if score > KPT_THR:                                  # 임계값보다 높은 점수만 시각화합니다.\n",
    "                cv2.circle(img, (int(x), int(y)), RADIUS, KEYPOINT_COLOR, -1, lineType=LINE_TYPE)  # 키포인트 점을 그립니다.\n",
    "        for (p1, p2) in skeleton_links:                          # 스켈레톤 링크 쌍을 순회합니다.\n",
    "            if p1 < len(scores) and p2 < len(scores):            # 인덱스 범위를 안전하게 확인합니다.\n",
    "                if scores[p1] > KPT_THR and scores[p2] > KPT_THR:  # 두 점 모두 임계값을 넘는지 확인합니다.\n",
    "                    pt1 = (int(kpts[p1][0]), int(kpts[p1][1]))   # 첫 번째 점의 정수 좌표를 계산합니다.\n",
    "                    pt2 = (int(kpts[p2][0]), int(kpts[p2][1]))   # 두 번째 점의 정수 좌표를 계산합니다.\n",
    "                    cv2.line(img, pt1, pt2, SKELETON_COLOR, THICKNESS, lineType=LINE_TYPE)  # 두 점 사이에 선을 그립니다.\n",
    "\n",
    "    out.write(img)                                               # 오버레이된 프레임을 비디오에 기록합니다.\n",
    "\n",
    "# ===== 리소스 해제 =====\n",
    "out.release()                                                    # 비디오 라이터를 닫아 파일을 완성합니다.\n",
    "print(f\"비디오 저장 완료: {SAVE_VIDEO}\")                         # 완료 메시지를 출력합니다.\n"
   ]
  },
  {
   "cell_type": "code",
   "execution_count": 8,
   "id": "cdb2c596-74e6-407b-a7a2-7a8e6f456896",
   "metadata": {},
   "outputs": [
    {
     "name": "stdout",
     "output_type": "stream",
     "text": [
      "Distributing 441 image paths into 1 jobs.\n"
     ]
    },
    {
     "name": "stderr",
     "output_type": "stream",
     "text": [
      "/opt/conda/lib/python3.10/site-packages/mmengine/utils/package_utils.py:48: UserWarning: pkg_resources is deprecated as an API. See https://setuptools.pypa.io/en/latest/pkg_resources.html. The pkg_resources package is slated for removal as early as 2025-11-30. Refrain from using this package or pin to Setuptools<81.\n",
      "  from pkg_resources import DistributionNotFound, get_distribution\n",
      "/opt/conda/lib/python3.10/importlib/__init__.py:169: UserWarning: pkg_resources is deprecated as an API. See https://setuptools.pypa.io/en/latest/pkg_resources.html. The pkg_resources package is slated for removal as early as 2025-11-30. Refrain from using this package or pin to Setuptools<81.\n",
      "  _bootstrap._exec(spec, module)\n"
     ]
    },
    {
     "name": "stdout",
     "output_type": "stream",
     "text": [
      "Loads checkpoint by local backend from path: /workspace/nas203/ds_RehabilitationMedicineData/IDs/Kimjihoo/3_project_HCCmove/sapiens/pose/checkpoints/rtmdet_m_8xb32-100e_coco-obj365-person-235e8209.pth\n",
      "Loads checkpoint by local backend from path: /workspace/nas203/ds_RehabilitationMedicineData/IDs/Kimjihoo/3_project_HCCmove/sapiens/pose/checkpoints/sapiens_0.3b/sapiens_0.3b_coco_best_coco_AP_796.pth\n",
      "The model and loaded state dict do not match exactly\n",
      "\n",
      "missing keys in source state_dict: head.deconv_layers.1.weight, head.deconv_layers.1.bias, head.deconv_layers.1.running_mean, head.deconv_layers.1.running_var, head.deconv_layers.4.weight, head.deconv_layers.4.bias, head.deconv_layers.4.running_mean, head.deconv_layers.4.running_var, head.conv_layers.1.weight, head.conv_layers.1.bias, head.conv_layers.1.running_mean, head.conv_layers.1.running_var, head.conv_layers.4.weight, head.conv_layers.4.bias, head.conv_layers.4.running_mean, head.conv_layers.4.running_var\n",
      "\n"
     ]
    },
    {
     "name": "stderr",
     "output_type": "stream",
     "text": [
      "Pose inference:   3%|▎         | 12/441 [00:56<33:40,  4.71s/it]"
     ]
    },
    {
     "ename": "KeyboardInterrupt",
     "evalue": "",
     "output_type": "error",
     "traceback": [
      "\u001b[0;31m---------------------------------------------------------------------------\u001b[0m",
      "\u001b[0;31mKeyboardInterrupt\u001b[0m                         Traceback (most recent call last)",
      "Cell \u001b[0;32mIn[8], line 15\u001b[0m\n\u001b[1;32m     13\u001b[0m \u001b[38;5;66;03m# JSON-only 버전 demo 스크립트 실행\u001b[39;00m\n\u001b[1;32m     14\u001b[0m \u001b[38;5;28;01mtry\u001b[39;00m:\n\u001b[0;32m---> 15\u001b[0m     \u001b[43msubprocess\u001b[49m\u001b[38;5;241;43m.\u001b[39;49m\u001b[43mrun\u001b[49m\u001b[43m(\u001b[49m\u001b[43m[\u001b[49m\n\u001b[1;32m     16\u001b[0m \u001b[43m        \u001b[49m\u001b[38;5;124;43m\"\u001b[39;49m\u001b[38;5;124;43mbash\u001b[39;49m\u001b[38;5;124;43m\"\u001b[39;49m\u001b[43m,\u001b[49m\n\u001b[1;32m     17\u001b[0m \u001b[43m        \u001b[49m\u001b[38;5;124;43m\"\u001b[39;49m\u001b[38;5;124;43m../sapiens/pose/scripts/demo/local/keypoints17.sh\u001b[39;49m\u001b[38;5;124;43m\"\u001b[39;49m\u001b[43m,\u001b[49m\u001b[43m  \u001b[49m\u001b[38;5;66;43;03m# JSON-only 버전 사용\u001b[39;49;00m\n\u001b[1;32m     18\u001b[0m \u001b[43m        \u001b[49m\u001b[43mINPUT\u001b[49m\u001b[43m,\u001b[49m\n\u001b[1;32m     19\u001b[0m \u001b[43m        \u001b[49m\u001b[43mOUTPUT\u001b[49m\n\u001b[1;32m     20\u001b[0m \u001b[43m    \u001b[49m\u001b[43m]\u001b[49m\u001b[43m,\u001b[49m\u001b[43m \u001b[49m\u001b[43mcheck\u001b[49m\u001b[38;5;241;43m=\u001b[39;49m\u001b[38;5;28;43;01mTrue\u001b[39;49;00m\u001b[43m)\u001b[49m\n\u001b[1;32m     21\u001b[0m     \u001b[38;5;28mprint\u001b[39m(\u001b[38;5;124mf\u001b[39m\u001b[38;5;124m\"\u001b[39m\u001b[38;5;124m[완료] Pose inference 성공!\u001b[39m\u001b[38;5;130;01m\\n\u001b[39;00m\u001b[38;5;124m결과 경로: \u001b[39m\u001b[38;5;132;01m{\u001b[39;00mOUTPUT\u001b[38;5;132;01m}\u001b[39;00m\u001b[38;5;124m\"\u001b[39m)\n\u001b[1;32m     22\u001b[0m \u001b[38;5;28;01mexcept\u001b[39;00m subprocess\u001b[38;5;241m.\u001b[39mCalledProcessError \u001b[38;5;28;01mas\u001b[39;00m e:\n",
      "File \u001b[0;32m/opt/conda/lib/python3.10/subprocess.py:505\u001b[0m, in \u001b[0;36mrun\u001b[0;34m(input, capture_output, timeout, check, *popenargs, **kwargs)\u001b[0m\n\u001b[1;32m    503\u001b[0m \u001b[38;5;28;01mwith\u001b[39;00m Popen(\u001b[38;5;241m*\u001b[39mpopenargs, \u001b[38;5;241m*\u001b[39m\u001b[38;5;241m*\u001b[39mkwargs) \u001b[38;5;28;01mas\u001b[39;00m process:\n\u001b[1;32m    504\u001b[0m     \u001b[38;5;28;01mtry\u001b[39;00m:\n\u001b[0;32m--> 505\u001b[0m         stdout, stderr \u001b[38;5;241m=\u001b[39m \u001b[43mprocess\u001b[49m\u001b[38;5;241;43m.\u001b[39;49m\u001b[43mcommunicate\u001b[49m\u001b[43m(\u001b[49m\u001b[38;5;28;43minput\u001b[39;49m\u001b[43m,\u001b[49m\u001b[43m \u001b[49m\u001b[43mtimeout\u001b[49m\u001b[38;5;241;43m=\u001b[39;49m\u001b[43mtimeout\u001b[49m\u001b[43m)\u001b[49m\n\u001b[1;32m    506\u001b[0m     \u001b[38;5;28;01mexcept\u001b[39;00m TimeoutExpired \u001b[38;5;28;01mas\u001b[39;00m exc:\n\u001b[1;32m    507\u001b[0m         process\u001b[38;5;241m.\u001b[39mkill()\n",
      "File \u001b[0;32m/opt/conda/lib/python3.10/subprocess.py:1146\u001b[0m, in \u001b[0;36mPopen.communicate\u001b[0;34m(self, input, timeout)\u001b[0m\n\u001b[1;32m   1144\u001b[0m         stderr \u001b[38;5;241m=\u001b[39m \u001b[38;5;28mself\u001b[39m\u001b[38;5;241m.\u001b[39mstderr\u001b[38;5;241m.\u001b[39mread()\n\u001b[1;32m   1145\u001b[0m         \u001b[38;5;28mself\u001b[39m\u001b[38;5;241m.\u001b[39mstderr\u001b[38;5;241m.\u001b[39mclose()\n\u001b[0;32m-> 1146\u001b[0m     \u001b[38;5;28;43mself\u001b[39;49m\u001b[38;5;241;43m.\u001b[39;49m\u001b[43mwait\u001b[49m\u001b[43m(\u001b[49m\u001b[43m)\u001b[49m\n\u001b[1;32m   1147\u001b[0m \u001b[38;5;28;01melse\u001b[39;00m:\n\u001b[1;32m   1148\u001b[0m     \u001b[38;5;28;01mif\u001b[39;00m timeout \u001b[38;5;129;01mis\u001b[39;00m \u001b[38;5;129;01mnot\u001b[39;00m \u001b[38;5;28;01mNone\u001b[39;00m:\n",
      "File \u001b[0;32m/opt/conda/lib/python3.10/subprocess.py:1209\u001b[0m, in \u001b[0;36mPopen.wait\u001b[0;34m(self, timeout)\u001b[0m\n\u001b[1;32m   1207\u001b[0m     endtime \u001b[38;5;241m=\u001b[39m _time() \u001b[38;5;241m+\u001b[39m timeout\n\u001b[1;32m   1208\u001b[0m \u001b[38;5;28;01mtry\u001b[39;00m:\n\u001b[0;32m-> 1209\u001b[0m     \u001b[38;5;28;01mreturn\u001b[39;00m \u001b[38;5;28;43mself\u001b[39;49m\u001b[38;5;241;43m.\u001b[39;49m\u001b[43m_wait\u001b[49m\u001b[43m(\u001b[49m\u001b[43mtimeout\u001b[49m\u001b[38;5;241;43m=\u001b[39;49m\u001b[43mtimeout\u001b[49m\u001b[43m)\u001b[49m\n\u001b[1;32m   1210\u001b[0m \u001b[38;5;28;01mexcept\u001b[39;00m \u001b[38;5;167;01mKeyboardInterrupt\u001b[39;00m:\n\u001b[1;32m   1211\u001b[0m     \u001b[38;5;66;03m# https://bugs.python.org/issue25942\u001b[39;00m\n\u001b[1;32m   1212\u001b[0m     \u001b[38;5;66;03m# The first keyboard interrupt waits briefly for the child to\u001b[39;00m\n\u001b[1;32m   1213\u001b[0m     \u001b[38;5;66;03m# exit under the common assumption that it also received the ^C\u001b[39;00m\n\u001b[1;32m   1214\u001b[0m     \u001b[38;5;66;03m# generated SIGINT and will exit rapidly.\u001b[39;00m\n\u001b[1;32m   1215\u001b[0m     \u001b[38;5;28;01mif\u001b[39;00m timeout \u001b[38;5;129;01mis\u001b[39;00m \u001b[38;5;129;01mnot\u001b[39;00m \u001b[38;5;28;01mNone\u001b[39;00m:\n",
      "File \u001b[0;32m/opt/conda/lib/python3.10/subprocess.py:1959\u001b[0m, in \u001b[0;36mPopen._wait\u001b[0;34m(self, timeout)\u001b[0m\n\u001b[1;32m   1957\u001b[0m \u001b[38;5;28;01mif\u001b[39;00m \u001b[38;5;28mself\u001b[39m\u001b[38;5;241m.\u001b[39mreturncode \u001b[38;5;129;01mis\u001b[39;00m \u001b[38;5;129;01mnot\u001b[39;00m \u001b[38;5;28;01mNone\u001b[39;00m:\n\u001b[1;32m   1958\u001b[0m     \u001b[38;5;28;01mbreak\u001b[39;00m  \u001b[38;5;66;03m# Another thread waited.\u001b[39;00m\n\u001b[0;32m-> 1959\u001b[0m (pid, sts) \u001b[38;5;241m=\u001b[39m \u001b[38;5;28;43mself\u001b[39;49m\u001b[38;5;241;43m.\u001b[39;49m\u001b[43m_try_wait\u001b[49m\u001b[43m(\u001b[49m\u001b[38;5;241;43m0\u001b[39;49m\u001b[43m)\u001b[49m\n\u001b[1;32m   1960\u001b[0m \u001b[38;5;66;03m# Check the pid and loop as waitpid has been known to\u001b[39;00m\n\u001b[1;32m   1961\u001b[0m \u001b[38;5;66;03m# return 0 even without WNOHANG in odd situations.\u001b[39;00m\n\u001b[1;32m   1962\u001b[0m \u001b[38;5;66;03m# http://bugs.python.org/issue14396.\u001b[39;00m\n\u001b[1;32m   1963\u001b[0m \u001b[38;5;28;01mif\u001b[39;00m pid \u001b[38;5;241m==\u001b[39m \u001b[38;5;28mself\u001b[39m\u001b[38;5;241m.\u001b[39mpid:\n",
      "File \u001b[0;32m/opt/conda/lib/python3.10/subprocess.py:1917\u001b[0m, in \u001b[0;36mPopen._try_wait\u001b[0;34m(self, wait_flags)\u001b[0m\n\u001b[1;32m   1915\u001b[0m \u001b[38;5;250m\u001b[39m\u001b[38;5;124;03m\"\"\"All callers to this function MUST hold self._waitpid_lock.\"\"\"\u001b[39;00m\n\u001b[1;32m   1916\u001b[0m \u001b[38;5;28;01mtry\u001b[39;00m:\n\u001b[0;32m-> 1917\u001b[0m     (pid, sts) \u001b[38;5;241m=\u001b[39m \u001b[43mos\u001b[49m\u001b[38;5;241;43m.\u001b[39;49m\u001b[43mwaitpid\u001b[49m\u001b[43m(\u001b[49m\u001b[38;5;28;43mself\u001b[39;49m\u001b[38;5;241;43m.\u001b[39;49m\u001b[43mpid\u001b[49m\u001b[43m,\u001b[49m\u001b[43m \u001b[49m\u001b[43mwait_flags\u001b[49m\u001b[43m)\u001b[49m\n\u001b[1;32m   1918\u001b[0m \u001b[38;5;28;01mexcept\u001b[39;00m \u001b[38;5;167;01mChildProcessError\u001b[39;00m:\n\u001b[1;32m   1919\u001b[0m     \u001b[38;5;66;03m# This happens if SIGCLD is set to be ignored or waiting\u001b[39;00m\n\u001b[1;32m   1920\u001b[0m     \u001b[38;5;66;03m# for child processes has otherwise been disabled for our\u001b[39;00m\n\u001b[1;32m   1921\u001b[0m     \u001b[38;5;66;03m# process.  This child is dead, we can't get the status.\u001b[39;00m\n\u001b[1;32m   1922\u001b[0m     pid \u001b[38;5;241m=\u001b[39m \u001b[38;5;28mself\u001b[39m\u001b[38;5;241m.\u001b[39mpid\n",
      "\u001b[0;31mKeyboardInterrupt\u001b[0m: "
     ]
    },
    {
     "name": "stderr",
     "output_type": "stream",
     "text": [
      "Pose inference:   3%|▎         | 12/441 [01:00<35:56,  5.03s/it]\n",
      "Traceback (most recent call last):\n",
      "  File \"/workspace/nas203/ds_RehabilitationMedicineData/IDs/Kimjihoo/3_project_HCCmove/sapiens/pose/demo/demo_vis.py\", line 123, in <module>\n",
      "    main()\n",
      "  File \"/workspace/nas203/ds_RehabilitationMedicineData/IDs/Kimjihoo/3_project_HCCmove/sapiens/pose/demo/demo_vis.py\", line 103, in main\n",
      "    pred_instances = process_one_image(args, image_path, detector, pose_estimator)\n",
      "  File \"/workspace/nas203/ds_RehabilitationMedicineData/IDs/Kimjihoo/3_project_HCCmove/sapiens/pose/demo/demo_vis.py\", line 46, in process_one_image\n",
      "    pose_results = inference_topdown(pose_estimator, img, bboxes)\n",
      "  File \"/opt/conda/lib/python3.10/site-packages/mmpose/apis/inference.py\", line 196, in inference_topdown\n",
      "    results = model.test_step(batch)\n",
      "  File \"/opt/conda/lib/python3.10/site-packages/mmengine/model/base_model/base_model.py\", line 145, in test_step\n",
      "    return self._run_forward(data, mode='predict')  # type: ignore\n",
      "  File \"/opt/conda/lib/python3.10/site-packages/mmengine/model/base_model/base_model.py\", line 361, in _run_forward\n",
      "    results = self(**data, mode=mode)\n",
      "  File \"/opt/conda/lib/python3.10/site-packages/torch/nn/modules/module.py\", line 1518, in _wrapped_call_impl\n",
      "    return self._call_impl(*args, **kwargs)\n",
      "  File \"/opt/conda/lib/python3.10/site-packages/torch/nn/modules/module.py\", line 1527, in _call_impl\n",
      "    return forward_call(*args, **kwargs)\n",
      "  File \"/opt/conda/lib/python3.10/site-packages/mmpose/models/pose_estimators/base.py\", line 161, in forward\n",
      "    return self.predict(inputs, data_samples)\n",
      "  File \"/opt/conda/lib/python3.10/site-packages/mmpose/models/pose_estimators/topdown.py\", line 109, in predict\n",
      "    preds = self.head.predict(feats, data_samples, test_cfg=self.test_cfg)\n",
      "  File \"/opt/conda/lib/python3.10/site-packages/mmpose/models/heads/heatmap_heads/heatmap_head.py\", line 259, in predict\n",
      "    _batch_heatmaps_flip = flip_heatmaps(\n",
      "  File \"/opt/conda/lib/python3.10/site-packages/mmpose/models/utils/tta.py\", line 64, in flip_heatmaps\n",
      "    if shift_heatmap:\n",
      "KeyboardInterrupt\n"
     ]
    }
   ],
   "source": [
    "import subprocess\n",
    "from pathlib import Path\n",
    "\n",
    "# 입력 디렉토리 (frame 이미지 모음)\n",
    "INPUT = \"/workspace/nas203/ds_RehabilitationMedicineData/IDs/Kimjihoo/3_project_HCCmove/data/test_patient_image/first_test_image/volleyball14s_frames\"\n",
    "\n",
    "# 출력 디렉토리 (JSON 결과 저장)\n",
    "OUTPUT = \"/workspace/nas203/ds_RehabilitationMedicineData/IDs/Kimjihoo/3_project_HCCmove/data/test_patient_image/first_test_image/volleyball14s_JSON\"\n",
    "\n",
    "# 출력 폴더 생성\n",
    "Path(OUTPUT).mkdir(parents=True, exist_ok=True)\n",
    "\n",
    "# JSON-only 버전 demo 스크립트 실행\n",
    "try:\n",
    "    subprocess.run([\n",
    "        \"bash\",\n",
    "        \"../sapiens/pose/scripts/demo/local/keypoints17.sh\",  # JSON-only 버전 사용\n",
    "        INPUT,\n",
    "        OUTPUT\n",
    "    ], check=True)\n",
    "    print(f\"[완료] Pose inference 성공!\\n결과 경로: {OUTPUT}\")\n",
    "except subprocess.CalledProcessError as e:\n",
    "    print(\"[실패] 스크립트 실행 에러 발생\")\n",
    "    print(\"에러 코드:\", e.returncode)\n",
    "    print(\"명령어:\", e.cmd)\n"
   ]
  }
 ],
 "metadata": {
  "kernelspec": {
   "display_name": "Python 3 (ipykernel)",
   "language": "python",
   "name": "python3"
  },
  "language_info": {
   "codemirror_mode": {
    "name": "ipython",
    "version": 3
   },
   "file_extension": ".py",
   "mimetype": "text/x-python",
   "name": "python",
   "nbconvert_exporter": "python",
   "pygments_lexer": "ipython3",
   "version": "3.10.13"
  }
 },
 "nbformat": 4,
 "nbformat_minor": 5
}
