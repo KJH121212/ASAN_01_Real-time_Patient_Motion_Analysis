{
 "cells": [
  {
   "cell_type": "markdown",
   "id": "805883fb-ed96-4ce7-a4e2-09b1a35beec9",
   "metadata": {},
   "source": [
    "# DATA의 위치 및 설명\n",
    "인수인계 제대로 못받아서 어느 폴더에 어느 파일이 들어있는지 나도 잘 모름.  \n",
    "입사 이후 들어온 데이터만 알음 어지간한건 유추를 통해 알아본 것  \n",
    "또한 nas203/data 부분 쓰기 권한이 없기 때문에 어지간한 만들어진 데이터들은 앞으로 IDs/Kimjihoo 폴더에 정리해 놓을 예정."
   ]
  },
  {
   "cell_type": "markdown",
   "id": "cd198c47-3412-4a9f-850b-2c6e78b8f623",
   "metadata": {},
   "source": [
    "## Project3 데이터\n",
    "### 제공된 데이터\n",
    "1. 김원 보산진 연구 = (\"/workspace/nas203/ds_RehabilitationMedicineData/data/김원 보산진 연구\")\n",
    "2. 김원 보산진 연구_2 = (\"/workspace/nas203/ds_RehabilitationMedicineData/data/김원 보산진 연구_2\")\n",
    "\n",
    "두개 모두 project3 에 사용되는 데이터인 것 같음. landmark의 위치는 모르겠음.  \n",
    "만약 필요하다면 YOLO를 통해 랜드마크를 대충 찍어보고 추후에 수정해서 사용하면 될 것 같음"
   ]
  },
  {
   "cell_type": "code",
   "execution_count": 1,
   "id": "158860d7-1809-4c7d-93aa-31498888763e",
   "metadata": {
    "scrolled": true
   },
   "outputs": [
    {
     "name": "stdout",
     "output_type": "stream",
     "text": [
      "=== 영상 제목 목록 ===\n"
     ]
    },
    {
     "data": {
      "text/html": [
       "<div>\n",
       "<style scoped>\n",
       "    .dataframe tbody tr th:only-of-type {\n",
       "        vertical-align: middle;\n",
       "    }\n",
       "\n",
       "    .dataframe tbody tr th {\n",
       "        vertical-align: top;\n",
       "    }\n",
       "\n",
       "    .dataframe thead th {\n",
       "        text-align: right;\n",
       "    }\n",
       "</style>\n",
       "<table border=\"1\" class=\"dataframe\">\n",
       "  <thead>\n",
       "    <tr style=\"text-align: right;\">\n",
       "      <th></th>\n",
       "      <th>base_dir</th>\n",
       "      <th>영상제목</th>\n",
       "    </tr>\n",
       "  </thead>\n",
       "  <tbody>\n",
       "    <tr>\n",
       "      <th>0</th>\n",
       "      <td>/workspace/nas203/ds_RehabilitationMedicineData/data/김원 보산진 연구</td>\n",
       "      <td>M01_VISIT12.MP4</td>\n",
       "    </tr>\n",
       "    <tr>\n",
       "      <th>1</th>\n",
       "      <td>/workspace/nas203/ds_RehabilitationMedicineData/data/김원 보산진 연구</td>\n",
       "      <td>M01_VISIT2_상지.MP4</td>\n",
       "    </tr>\n",
       "    <tr>\n",
       "      <th>2</th>\n",
       "      <td>/workspace/nas203/ds_RehabilitationMedicineData/data/김원 보산진 연구</td>\n",
       "      <td>M01_VISIT2_하지.MP4</td>\n",
       "    </tr>\n",
       "    <tr>\n",
       "      <th>3</th>\n",
       "      <td>/workspace/nas203/ds_RehabilitationMedicineData/data/김원 보산진 연구</td>\n",
       "      <td>M01_VISIT6_상지.MP4</td>\n",
       "    </tr>\n",
       "    <tr>\n",
       "      <th>4</th>\n",
       "      <td>/workspace/nas203/ds_RehabilitationMedicineData/data/김원 보산진 연구</td>\n",
       "      <td>M01_VISIT6_하지.MP4</td>\n",
       "    </tr>\n",
       "    <tr>\n",
       "      <th>...</th>\n",
       "      <td>...</td>\n",
       "      <td>...</td>\n",
       "    </tr>\n",
       "    <tr>\n",
       "      <th>68</th>\n",
       "      <td>/workspace/nas203/ds_RehabilitationMedicineData/data/김원 보산진 연구_2/M16</td>\n",
       "      <td>M16_visit 6,7_몸통, 하지.MP4</td>\n",
       "    </tr>\n",
       "    <tr>\n",
       "      <th>69</th>\n",
       "      <td>/workspace/nas203/ds_RehabilitationMedicineData/data/김원 보산진 연구_2/M16</td>\n",
       "      <td>M16_visit 6,7_상지.MP4</td>\n",
       "    </tr>\n",
       "    <tr>\n",
       "      <th>70</th>\n",
       "      <td>/workspace/nas203/ds_RehabilitationMedicineData/data/김원 보산진 연구_2/M16</td>\n",
       "      <td>M16_visit1, 상지.MP4</td>\n",
       "    </tr>\n",
       "    <tr>\n",
       "      <th>71</th>\n",
       "      <td>/workspace/nas203/ds_RehabilitationMedicineData/data/김원 보산진 연구_2/M16</td>\n",
       "      <td>M16_visit1,하지.MP4</td>\n",
       "    </tr>\n",
       "    <tr>\n",
       "      <th>72</th>\n",
       "      <td>/workspace/nas203/ds_RehabilitationMedicineData/data/김원 보산진 연구_2/M16</td>\n",
       "      <td>M16_visit13,상지.MP4</td>\n",
       "    </tr>\n",
       "  </tbody>\n",
       "</table>\n",
       "<p>73 rows × 2 columns</p>\n",
       "</div>"
      ],
      "text/plain": [
       "                                                                base_dir  \\\n",
       "0         /workspace/nas203/ds_RehabilitationMedicineData/data/김원 보산진 연구   \n",
       "1         /workspace/nas203/ds_RehabilitationMedicineData/data/김원 보산진 연구   \n",
       "2         /workspace/nas203/ds_RehabilitationMedicineData/data/김원 보산진 연구   \n",
       "3         /workspace/nas203/ds_RehabilitationMedicineData/data/김원 보산진 연구   \n",
       "4         /workspace/nas203/ds_RehabilitationMedicineData/data/김원 보산진 연구   \n",
       "..                                                                   ...   \n",
       "68  /workspace/nas203/ds_RehabilitationMedicineData/data/김원 보산진 연구_2/M16   \n",
       "69  /workspace/nas203/ds_RehabilitationMedicineData/data/김원 보산진 연구_2/M16   \n",
       "70  /workspace/nas203/ds_RehabilitationMedicineData/data/김원 보산진 연구_2/M16   \n",
       "71  /workspace/nas203/ds_RehabilitationMedicineData/data/김원 보산진 연구_2/M16   \n",
       "72  /workspace/nas203/ds_RehabilitationMedicineData/data/김원 보산진 연구_2/M16   \n",
       "\n",
       "                        영상제목  \n",
       "0            M01_VISIT12.MP4  \n",
       "1          M01_VISIT2_상지.MP4  \n",
       "2          M01_VISIT2_하지.MP4  \n",
       "3          M01_VISIT6_상지.MP4  \n",
       "4          M01_VISIT6_하지.MP4  \n",
       "..                       ...  \n",
       "68  M16_visit 6,7_몸통, 하지.MP4  \n",
       "69      M16_visit 6,7_상지.MP4  \n",
       "70        M16_visit1, 상지.MP4  \n",
       "71         M16_visit1,하지.MP4  \n",
       "72        M16_visit13,상지.MP4  \n",
       "\n",
       "[73 rows x 2 columns]"
      ]
     },
     "metadata": {},
     "output_type": "display_data"
    },
    {
     "name": "stdout",
     "output_type": "stream",
     "text": [
      "=== 경로별 개수 요약 ===\n"
     ]
    },
    {
     "data": {
      "text/html": [
       "<div>\n",
       "<style scoped>\n",
       "    .dataframe tbody tr th:only-of-type {\n",
       "        vertical-align: middle;\n",
       "    }\n",
       "\n",
       "    .dataframe tbody tr th {\n",
       "        vertical-align: top;\n",
       "    }\n",
       "\n",
       "    .dataframe thead th {\n",
       "        text-align: right;\n",
       "    }\n",
       "</style>\n",
       "<table border=\"1\" class=\"dataframe\">\n",
       "  <thead>\n",
       "    <tr style=\"text-align: right;\">\n",
       "      <th></th>\n",
       "      <th>base_dir</th>\n",
       "      <th>개수</th>\n",
       "    </tr>\n",
       "  </thead>\n",
       "  <tbody>\n",
       "    <tr>\n",
       "      <th>0</th>\n",
       "      <td>/workspace/nas203/ds_RehabilitationMedicineData/data/김원 보산진 연구</td>\n",
       "      <td>58</td>\n",
       "    </tr>\n",
       "    <tr>\n",
       "      <th>1</th>\n",
       "      <td>/workspace/nas203/ds_RehabilitationMedicineData/data/김원 보산진 연구_2/M14</td>\n",
       "      <td>4</td>\n",
       "    </tr>\n",
       "    <tr>\n",
       "      <th>2</th>\n",
       "      <td>/workspace/nas203/ds_RehabilitationMedicineData/data/김원 보산진 연구_2/M15</td>\n",
       "      <td>5</td>\n",
       "    </tr>\n",
       "    <tr>\n",
       "      <th>3</th>\n",
       "      <td>/workspace/nas203/ds_RehabilitationMedicineData/data/김원 보산진 연구_2/M16</td>\n",
       "      <td>6</td>\n",
       "    </tr>\n",
       "  </tbody>\n",
       "</table>\n",
       "</div>"
      ],
      "text/plain": [
       "                                                               base_dir  개수\n",
       "0        /workspace/nas203/ds_RehabilitationMedicineData/data/김원 보산진 연구  58\n",
       "1  /workspace/nas203/ds_RehabilitationMedicineData/data/김원 보산진 연구_2/M14   4\n",
       "2  /workspace/nas203/ds_RehabilitationMedicineData/data/김원 보산진 연구_2/M15   5\n",
       "3  /workspace/nas203/ds_RehabilitationMedicineData/data/김원 보산진 연구_2/M16   6"
      ]
     },
     "metadata": {},
     "output_type": "display_data"
    },
    {
     "name": "stdout",
     "output_type": "stream",
     "text": [
      "/workspace/nas203/ds_RehabilitationMedicineData/data/김원 보산진 연구 → 58개\n",
      "/workspace/nas203/ds_RehabilitationMedicineData/data/김원 보산진 연구_2/M14 → 4개\n",
      "/workspace/nas203/ds_RehabilitationMedicineData/data/김원 보산진 연구_2/M15 → 5개\n",
      "/workspace/nas203/ds_RehabilitationMedicineData/data/김원 보산진 연구_2/M16 → 6개\n",
      "\n",
      "=== /workspace/nas203/ds_RehabilitationMedicineData/data/김원 보산진 연구 ===\n",
      " - M01_VISIT12.MP4\n",
      " - M01_VISIT2_상지.MP4\n",
      " - M01_VISIT2_하지.MP4\n",
      " - M01_VISIT6_상지.MP4\n",
      " - M01_VISIT6_하지.MP4\n",
      " - M02_VISIT12_상지.MP4\n",
      " - M02_VISIT12_하지1.MP4\n",
      " - M02_VISIT12_하지2.MP4\n",
      " - M02_VISIT2.MP4\n",
      " - M02_VISIT6.MP4\n",
      " - M03_VISIT12_상지.MP4\n",
      " - M03_VISIT12_하지.MP4\n",
      " - M03_VISIT2.MP4\n",
      " - M03_VISIT6_상지.MP4\n",
      " - M03_VISIT6_하지.MP4\n",
      " - M04_VISIT12.MP4\n",
      " - M04_VISIT2.MP4\n",
      " - M04_VISIT6_상지.MP4\n",
      " - M04_VISIT6_하지1.MP4\n",
      " - M04_VISIT6_하지2.MP4\n",
      " - M06_VISIT12_상하지.MP4\n",
      " - M06_VISIT2_상하지.MP4\n",
      " - M06_VISIT6_상하지.MP4\n",
      " - M07_VISIT12_상지.MP4\n",
      " - M07_VISIT12_하지.MP4\n",
      " - M07_VISIT2_상지.mov\n",
      " - M07_VISIT2_하지.mov\n",
      " - M07_VISIT6_상하지.MP4\n",
      " - M08_visit2_상하지_1.MP4\n",
      " - M08_visit2_상하지_2.MP4\n",
      " - M08_visit6_상하지_1.MP4\n",
      " - M08_visit6_상하지_2.MP4\n",
      " - M09_VISIT2_상지.MP4\n",
      " - M09_VISIT2_하지.MP4\n",
      " - M09_VISIT6_하지1.MP4\n",
      " - M09_VISIT6_하지2.MP4\n",
      " - M10_VISIT12_상지.MP4\n",
      " - M10_VISIT12_하지.MP4\n",
      " - M10_VISIT2_상지.MP4\n",
      " - M10_VISIT2_하지.MP4\n",
      " - M10_VISIT6_상지.MP4\n",
      " - M10_VISIT6_하지.MP4\n",
      " - M11_visit12_상지.MP4\n",
      " - M11_visit12_하지.MP4\n",
      " - M11_VISIT2_상지.MP4\n",
      " - M11_VISIT2_하지.MP4\n",
      " - M11_visit6_상하지.MP4\n",
      " - M12_visit2_상지.MP4\n",
      " - M12_visit2_하지.MP4\n",
      " - M12_visit6_상지_1.MP4\n",
      " - M12_visit6_상지_2.MP4\n",
      " - M12_visit6_하지.MP4\n",
      " - M13_visit13_상지(측면).MP4\n",
      " - M13_visit13_하지(정면).MP4\n",
      " - M13_Visit2_복부, 하지.MP4\n",
      " - M13_Visit2_상지.MP4\n",
      " - M13_Visit6_복부, 하지.MP4\n",
      " - M13_Visit6_상지.MP4\n",
      "총 58개\n",
      "\n",
      "=== /workspace/nas203/ds_RehabilitationMedicineData/data/김원 보산진 연구_2/M14 ===\n",
      " - M14_Visit2_몸통, 하지.mov\n",
      " - M14_Visit2_상지.mov\n",
      " - M14_Visit7_몸통, 하지_편집.mov\n",
      " - M14_Visit7_상지_영상이 잘림.mov\n",
      "총 4개\n",
      "\n",
      "=== /workspace/nas203/ds_RehabilitationMedicineData/data/김원 보산진 연구_2/M15 ===\n",
      " - M15_visit13_상지1.MP4\n",
      " - M15_visit13_상지2.MP4\n",
      " - M15_visit13_하지.MP4\n",
      " - M15_Visit2_몸통, 하지.MP4\n",
      " - M15_Visit2_상지.MP4\n",
      "총 5개\n",
      "\n",
      "=== /workspace/nas203/ds_RehabilitationMedicineData/data/김원 보산진 연구_2/M16 ===\n",
      " - M16_visit 13_하지.MP4\n",
      " - M16_visit 6,7_몸통, 하지.MP4\n",
      " - M16_visit 6,7_상지.MP4\n",
      " - M16_visit1, 상지.MP4\n",
      " - M16_visit1,하지.MP4\n",
      " - M16_visit13,상지.MP4\n",
      "총 6개\n"
     ]
    }
   ],
   "source": [
    "from pathlib import Path\n",
    "import pandas as pd\n",
    "\n",
    "# === 설정 ===\n",
    "PATHS = [\n",
    "    \"/workspace/nas203/ds_RehabilitationMedicineData/data/김원 보산진 연구\",\n",
    "    \"/workspace/nas203/ds_RehabilitationMedicineData/data/김원 보산진 연구_2/M14\",\n",
    "    \"/workspace/nas203/ds_RehabilitationMedicineData/data/김원 보산진 연구_2/M15\",\n",
    "    \"/workspace/nas203/ds_RehabilitationMedicineData/data/김원 보산진 연구_2/M16\",\n",
    "]\n",
    "\n",
    "# mp4, mov 확장자 모두 포함 (대소문자 무시)\n",
    "EXTS = {\".mp4\", \".mov\"}\n",
    "\n",
    "rows = []\n",
    "for base in PATHS:\n",
    "    p = Path(base)\n",
    "    if not p.is_dir():\n",
    "        print(f\"✗ 경로 없음: {p}\")\n",
    "        continue\n",
    "\n",
    "    # 하위폴더는 탐색하지 않고, 해당 폴더 바로 아래만 확인\n",
    "    files = [f for f in p.iterdir() if f.is_file() and f.suffix.lower() in EXTS]\n",
    "\n",
    "    for f in sorted(files, key=lambda x: x.name.lower()):\n",
    "        rows.append({\n",
    "            \"base_dir\": str(p),\n",
    "            \"영상제목\": f.name,\n",
    "        })\n",
    "\n",
    "df = pd.DataFrame(rows)\n",
    "\n",
    "if df.empty:\n",
    "    print(\"mp4/mov 파일이 없습니다. (하위 폴더 미탐색)\")\n",
    "else:\n",
    "    # base_dir 전체 경로가 잘리면 안 되게 설정\n",
    "    pd.set_option(\"display.max_colwidth\", None)\n",
    "    pd.set_option(\"display.width\", None)\n",
    "\n",
    "    # 전체 목록\n",
    "    print(\"=== 영상 제목 목록 ===\")\n",
    "    display(df)\n",
    "\n",
    "    # 경로별 개수 요약\n",
    "    summary = df.groupby(\"base_dir\").size().reset_index(name=\"개수\")\n",
    "    print(\"=== 경로별 개수 요약 ===\")\n",
    "    display(summary)\n",
    "\n",
    "    # 텍스트 형태로도 출력\n",
    "    for _, row in summary.iterrows():\n",
    "        print(f\"{row['base_dir']} → {row['개수']}개\")\n",
    "\n",
    "for base in PATHS:\n",
    "    p = Path(base)\n",
    "    if not p.is_dir():\n",
    "        print(f\"✗ 경로 없음: {p}\")\n",
    "        continue\n",
    "\n",
    "    files = [f.name for f in p.iterdir() if f.is_file() and f.suffix.lower() in EXTS]\n",
    "\n",
    "    print(f\"\\n=== {p} ===\")\n",
    "    if files:\n",
    "        for f in sorted(files, key=lambda x: x.lower()):\n",
    "            print(f\" - {f}\")\n",
    "        print(f\"총 {len(files)}개\")\n",
    "    else:\n",
    "        print(\"mp4/mov 파일 없음\")\n"
   ]
  },
  {
   "cell_type": "markdown",
   "id": "aa49203d-283b-4495-b0e1-1ad87bcda285",
   "metadata": {},
   "source": [
    "### training에 사용한 데이터\n",
    "landmark가 있는 data = (\"/workspace/nas203/ds_RehabilitationMedicineData/data/yolo_data/labels\")  \n",
    "해당 데이터는 training에 사용하기 위해 landmark preprocessing 작업을 다 해놓은 상태임.  \n",
    "근데 내부에 김원 보산진 연구에 있는 데이터도 들어가 있는 것을 확인할 수 있었음.  "
   ]
  },
  {
   "cell_type": "code",
   "execution_count": 2,
   "id": "fdecb3fd-486e-4a28-a428-239626658cc6",
   "metadata": {
    "scrolled": true
   },
   "outputs": [
    {
     "name": "stdout",
     "output_type": "stream",
     "text": [
      "CP아동Quest1\n",
      "CP아동Quest2\n",
      "CP아동Quest3\n",
      "DD아동베일리1\n",
      "DD아동베일리2\n",
      "M14Visit2상지\n",
      "M14Visit7몸통,하지편집\n",
      "M14Visit7상지영상이잘림\n",
      "M15Visit2몸통,하지\n",
      "M15Visit2상지\n",
      "M15visit13상지1\n",
      "M15visit13하지\n",
      "M16visit1,상지\n",
      "M16visit1,하지\n",
      "M16visit6,7몸통,하지\n",
      "\n",
      "총 15개 고유 prefix\n"
     ]
    }
   ],
   "source": [
    "from pathlib import Path\n",
    "\n",
    "# 이미지들이 들어 있는 네트워크 드라이브 경로\n",
    "# 윈도우 UNC 경로라면 r'\\\\192.168.45.203\\ds_RehabilitationMedicineData\\data\\yolo_data\\images' 형태로 씁니다.\n",
    "IMG_DIR = Path(\"/workspace/nas203/ds_RehabilitationMedicineData/data/yolo_data/images\")\n",
    "\n",
    "prefixes = set()\n",
    "\n",
    "if IMG_DIR.is_dir():\n",
    "    for f in IMG_DIR.iterdir():\n",
    "        if f.is_file() and f.suffix.lower() in {\".jpg\", \".jpeg\", \".png\"}:\n",
    "            name = f.stem        # 확장자 제거된 파일명\n",
    "            prefix = name.split(\"_\")[0]   # \"_\" 기준 앞부분\n",
    "            prefixes.add(prefix)\n",
    "\n",
    "    # 정렬 후 출력\n",
    "    for p in sorted(prefixes):\n",
    "        print(p)\n",
    "    print(f\"\\n총 {len(prefixes)}개 고유 prefix\")\n",
    "else:\n",
    "    print(\"경로가 존재하지 않거나 접근할 수 없습니다:\", IMG_DIR)\n"
   ]
  },
  {
   "cell_type": "markdown",
   "id": "3fc56cc6-da57-4cbf-bc63-c63792e0503c",
   "metadata": {},
   "source": [
    "### resize 및 frame 추출 안된 데이터"
   ]
  },
  {
   "cell_type": "code",
   "execution_count": 5,
   "id": "4ac5bfe8-ae2b-49fd-aecb-a4666bcbabe3",
   "metadata": {
    "scrolled": true
   },
   "outputs": [
    {
     "name": "stdout",
     "output_type": "stream",
     "text": [
      "=== 비디오는 있는데 resized_frames 폴더는 없는 것 ===\n",
      " - m07visit2상지\n",
      " - m07visit2하지\n",
      "\n",
      "=== resized_frames 폴더는 있는데 비디오는 없는 것 ===\n",
      "\n",
      "총 비디오: 73 / 총 resized_frames 폴더: 71\n"
     ]
    }
   ],
   "source": [
    "from pathlib import Path\n",
    "\n",
    "# 1. mp4/mov 비디오들이 있는 경로\n",
    "VIDEO_PATHS = [\n",
    "    \"/workspace/nas203/ds_RehabilitationMedicineData/data/김원 보산진 연구\",\n",
    "    \"/workspace/nas203/ds_RehabilitationMedicineData/data/김원 보산진 연구_2/M14\",\n",
    "    \"/workspace/nas203/ds_RehabilitationMedicineData/data/김원 보산진 연구_2/M15\",\n",
    "    \"/workspace/nas203/ds_RehabilitationMedicineData/data/김원 보산진 연구_2/M16\",\n",
    "]\n",
    "\n",
    "# 2. resized_frames 폴더들이 있는 경로\n",
    "RESIZE_PATHS = [\n",
    "    \"/workspace/nas203/ds_RehabilitationMedicineData/data/김원 보산진 연구/resize\",\n",
    "    \"/workspace/nas203/ds_RehabilitationMedicineData/data/김원 보산진 연구_2/resize\"\n",
    "]\n",
    "\n",
    "EXTS = {\".mp4\", \".mov\"}\n",
    "video_names = set()\n",
    "folder_names = set()\n",
    "\n",
    "# 비디오 이름 수집\n",
    "for base in VIDEO_PATHS:\n",
    "    p = Path(base)\n",
    "    if not p.is_dir():\n",
    "        continue\n",
    "    for f in p.iterdir():\n",
    "        if f.is_file() and f.suffix.lower() in EXTS:\n",
    "            video_names.add(f.stem)\n",
    "\n",
    "# resized_frames 폴더 이름 수집\n",
    "for base in RESIZE_PATHS:\n",
    "    p = Path(base)\n",
    "    if not p.is_dir():\n",
    "        continue\n",
    "    for sub in p.iterdir():\n",
    "        if sub.is_dir() and sub.name.endswith(\"resized_frames\"):\n",
    "            folder_names.add(sub.name.replace(\"resized_frames\",\"\"))\n",
    "\n",
    "import re\n",
    "\n",
    "def normalize(name: str) -> str:\n",
    "    # 확장자 제거, _resized_frames 제거\n",
    "    name = name.replace(\"_resized_frames\", \"\")\n",
    "    # 대소문자 통일\n",
    "    name = name.lower()\n",
    "    # 공백 제거\n",
    "    name = name.replace(\" \", \"\")\n",
    "    # 언더스코어 제거\n",
    "    name = name.replace(\"_\", \"\")\n",
    "    return name\n",
    "\n",
    "video_names_norm = {normalize(n) for n in video_names}\n",
    "folder_names_norm = {normalize(n) for n in folder_names}\n",
    "\n",
    "missing_in_folders = video_names_norm - folder_names_norm\n",
    "missing_in_videos = folder_names_norm - video_names_norm\n",
    "\n",
    "print(\"=== 비디오는 있는데 resized_frames 폴더는 없는 것 ===\")\n",
    "for name in sorted(missing_in_folders):\n",
    "    print(\" -\", name)\n",
    "\n",
    "print(\"\\n=== resized_frames 폴더는 있는데 비디오는 없는 것 ===\")\n",
    "for name in sorted(missing_in_videos):\n",
    "    print(\" -\", name)\n",
    "\n",
    "print(f\"\\n총 비디오: {len(video_names_norm)} / 총 resized_frames 폴더: {len(folder_names_norm)}\")\n",
    "\n"
   ]
  },
  {
   "cell_type": "markdown",
   "id": "125917e5",
   "metadata": {},
   "source": [
    "## 비디오 화질 및 EDA\n",
    "선임자인 김태원 연구원의 경우 resize 한 데이터들을 만들어 놓았다. 이를 확인하기 위해 EDA를 진행하였다."
   ]
  },
  {
   "cell_type": "code",
   "execution_count": 8,
   "id": "7490acbb",
   "metadata": {},
   "outputs": [
    {
     "name": "stdout",
     "output_type": "stream",
     "text": [
      "CSV 저장 완료: video_metadata.csv\n"
     ]
    }
   ],
   "source": [
    "from pathlib import Path\n",
    "import cv2\n",
    "import pandas as pd\n",
    "import os\n",
    "\n",
    "BASE_PATH = \"/workspace/nas203/ds_RehabilitationMedicineData/data/김원 보산진 연구\"\n",
    "EXTS = {\".mp4\", \".mov\"}\n",
    "\n",
    "rows = []\n",
    "p = Path(BASE_PATH)\n",
    "files = [f for f in p.iterdir() if f.is_file() and f.suffix.lower() in EXTS]\n",
    "\n",
    "for f in sorted(files, key=lambda x: x.name.lower()):\n",
    "    cap = cv2.VideoCapture(str(f))\n",
    "    if not cap.isOpened():\n",
    "        print(f\"열 수 없음: {f}\")\n",
    "        continue\n",
    "\n",
    "    frame_count = int(cap.get(cv2.CAP_PROP_FRAME_COUNT))\n",
    "    fps         = cap.get(cv2.CAP_PROP_FPS)\n",
    "    width       = int(cap.get(cv2.CAP_PROP_FRAME_WIDTH))\n",
    "    height      = int(cap.get(cv2.CAP_PROP_FRAME_HEIGHT))\n",
    "    duration    = frame_count / fps if fps > 0 else None\n",
    "\n",
    "    cap.release()\n",
    "\n",
    "    file_size = os.path.getsize(f) / (1024*1024)  # MB\n",
    "\n",
    "    # 언더바 제거 → 실제 폴더 구조와 맞춤\n",
    "    folder_name = f.stem.replace(\"_\", \"\") + \"resized_frames\"\n",
    "\n",
    "    rows.append({\n",
    "        \"video_name\": f.name,\n",
    "        \"frame_dir\": str(Path(BASE_PATH) / \"resize\" / folder_name),\n",
    "        \"frame_count\": frame_count,\n",
    "        \"fps\": fps,\n",
    "        \"duration_sec\": duration,\n",
    "        \"resolution\": f\"{width}x{height}\",\n",
    "        \"file_size_MB\": round(file_size, 2),\n",
    "    })\n",
    "\n",
    "df = pd.DataFrame(rows)\n",
    "df.to_csv(\"video_metadata.csv\", index=False, encoding=\"utf-8-sig\")\n",
    "\n",
    "print(\"CSV 저장 완료: video_metadata.csv\")\n"
   ]
  },
  {
   "cell_type": "code",
   "execution_count": 9,
   "id": "b6d469bf-a006-4e21-b145-8a95a0d0b1c0",
   "metadata": {},
   "outputs": [
    {
     "name": "stdout",
     "output_type": "stream",
     "text": [
      "[INFO] 총 58개 비디오 기록 로드됨\n",
      "\n",
      "[OK]   /workspace/nas203/ds_RehabilitationMedicineData/data/김원 보산진 연구/resize/M01VISIT12resized_frames\n",
      "[OK]   /workspace/nas203/ds_RehabilitationMedicineData/data/김원 보산진 연구/resize/M01VISIT2상지resized_frames\n",
      "[OK]   /workspace/nas203/ds_RehabilitationMedicineData/data/김원 보산진 연구/resize/M01VISIT2하지resized_frames\n",
      "[OK]   /workspace/nas203/ds_RehabilitationMedicineData/data/김원 보산진 연구/resize/M01VISIT6상지resized_frames\n",
      "[OK]   /workspace/nas203/ds_RehabilitationMedicineData/data/김원 보산진 연구/resize/M01VISIT6하지resized_frames\n",
      "[OK]   /workspace/nas203/ds_RehabilitationMedicineData/data/김원 보산진 연구/resize/M02VISIT12상지resized_frames\n",
      "[OK]   /workspace/nas203/ds_RehabilitationMedicineData/data/김원 보산진 연구/resize/M02VISIT12하지1resized_frames\n",
      "[OK]   /workspace/nas203/ds_RehabilitationMedicineData/data/김원 보산진 연구/resize/M02VISIT12하지2resized_frames\n",
      "[OK]   /workspace/nas203/ds_RehabilitationMedicineData/data/김원 보산진 연구/resize/M02VISIT2resized_frames\n",
      "[OK]   /workspace/nas203/ds_RehabilitationMedicineData/data/김원 보산진 연구/resize/M02VISIT6resized_frames\n",
      "[OK]   /workspace/nas203/ds_RehabilitationMedicineData/data/김원 보산진 연구/resize/M03VISIT12상지resized_frames\n",
      "[OK]   /workspace/nas203/ds_RehabilitationMedicineData/data/김원 보산진 연구/resize/M03VISIT12하지resized_frames\n",
      "[OK]   /workspace/nas203/ds_RehabilitationMedicineData/data/김원 보산진 연구/resize/M03VISIT2resized_frames\n",
      "[OK]   /workspace/nas203/ds_RehabilitationMedicineData/data/김원 보산진 연구/resize/M03VISIT6상지resized_frames\n",
      "[OK]   /workspace/nas203/ds_RehabilitationMedicineData/data/김원 보산진 연구/resize/M03VISIT6하지resized_frames\n",
      "[OK]   /workspace/nas203/ds_RehabilitationMedicineData/data/김원 보산진 연구/resize/M04VISIT12resized_frames\n",
      "[OK]   /workspace/nas203/ds_RehabilitationMedicineData/data/김원 보산진 연구/resize/M04VISIT2resized_frames\n",
      "[OK]   /workspace/nas203/ds_RehabilitationMedicineData/data/김원 보산진 연구/resize/M04VISIT6상지resized_frames\n",
      "[OK]   /workspace/nas203/ds_RehabilitationMedicineData/data/김원 보산진 연구/resize/M04VISIT6하지1resized_frames\n",
      "[OK]   /workspace/nas203/ds_RehabilitationMedicineData/data/김원 보산진 연구/resize/M04VISIT6하지2resized_frames\n",
      "[OK]   /workspace/nas203/ds_RehabilitationMedicineData/data/김원 보산진 연구/resize/M06VISIT12상하지resized_frames\n",
      "[OK]   /workspace/nas203/ds_RehabilitationMedicineData/data/김원 보산진 연구/resize/M06VISIT2상하지resized_frames\n",
      "[OK]   /workspace/nas203/ds_RehabilitationMedicineData/data/김원 보산진 연구/resize/M06VISIT6상하지resized_frames\n",
      "[OK]   /workspace/nas203/ds_RehabilitationMedicineData/data/김원 보산진 연구/resize/M07VISIT12상지resized_frames\n",
      "[OK]   /workspace/nas203/ds_RehabilitationMedicineData/data/김원 보산진 연구/resize/M07VISIT12하지resized_frames\n",
      "[MISS] /workspace/nas203/ds_RehabilitationMedicineData/data/김원 보산진 연구/resize/M07VISIT2상지resized_frames\n",
      "[MISS] /workspace/nas203/ds_RehabilitationMedicineData/data/김원 보산진 연구/resize/M07VISIT2하지resized_frames\n",
      "[OK]   /workspace/nas203/ds_RehabilitationMedicineData/data/김원 보산진 연구/resize/M07VISIT6상하지resized_frames\n",
      "[OK]   /workspace/nas203/ds_RehabilitationMedicineData/data/김원 보산진 연구/resize/M08visit2상하지1resized_frames\n",
      "[OK]   /workspace/nas203/ds_RehabilitationMedicineData/data/김원 보산진 연구/resize/M08visit2상하지2resized_frames\n",
      "[OK]   /workspace/nas203/ds_RehabilitationMedicineData/data/김원 보산진 연구/resize/M08visit6상하지1resized_frames\n",
      "[OK]   /workspace/nas203/ds_RehabilitationMedicineData/data/김원 보산진 연구/resize/M08visit6상하지2resized_frames\n",
      "[OK]   /workspace/nas203/ds_RehabilitationMedicineData/data/김원 보산진 연구/resize/M09VISIT2상지resized_frames\n",
      "[OK]   /workspace/nas203/ds_RehabilitationMedicineData/data/김원 보산진 연구/resize/M09VISIT2하지resized_frames\n",
      "[OK]   /workspace/nas203/ds_RehabilitationMedicineData/data/김원 보산진 연구/resize/M09VISIT6하지1resized_frames\n",
      "[OK]   /workspace/nas203/ds_RehabilitationMedicineData/data/김원 보산진 연구/resize/M09VISIT6하지2resized_frames\n",
      "[OK]   /workspace/nas203/ds_RehabilitationMedicineData/data/김원 보산진 연구/resize/M10VISIT12상지resized_frames\n",
      "[OK]   /workspace/nas203/ds_RehabilitationMedicineData/data/김원 보산진 연구/resize/M10VISIT12하지resized_frames\n",
      "[OK]   /workspace/nas203/ds_RehabilitationMedicineData/data/김원 보산진 연구/resize/M10VISIT2상지resized_frames\n",
      "[OK]   /workspace/nas203/ds_RehabilitationMedicineData/data/김원 보산진 연구/resize/M10VISIT2하지resized_frames\n",
      "[OK]   /workspace/nas203/ds_RehabilitationMedicineData/data/김원 보산진 연구/resize/M10VISIT6상지resized_frames\n",
      "[OK]   /workspace/nas203/ds_RehabilitationMedicineData/data/김원 보산진 연구/resize/M10VISIT6하지resized_frames\n",
      "[OK]   /workspace/nas203/ds_RehabilitationMedicineData/data/김원 보산진 연구/resize/M11visit12상지resized_frames\n",
      "[OK]   /workspace/nas203/ds_RehabilitationMedicineData/data/김원 보산진 연구/resize/M11visit12하지resized_frames\n",
      "[OK]   /workspace/nas203/ds_RehabilitationMedicineData/data/김원 보산진 연구/resize/M11VISIT2상지resized_frames\n",
      "[OK]   /workspace/nas203/ds_RehabilitationMedicineData/data/김원 보산진 연구/resize/M11VISIT2하지resized_frames\n",
      "[OK]   /workspace/nas203/ds_RehabilitationMedicineData/data/김원 보산진 연구/resize/M11visit6상하지resized_frames\n",
      "[OK]   /workspace/nas203/ds_RehabilitationMedicineData/data/김원 보산진 연구/resize/M12visit2상지resized_frames\n",
      "[OK]   /workspace/nas203/ds_RehabilitationMedicineData/data/김원 보산진 연구/resize/M12visit2하지resized_frames\n",
      "[OK]   /workspace/nas203/ds_RehabilitationMedicineData/data/김원 보산진 연구/resize/M12visit6상지1resized_frames\n",
      "[OK]   /workspace/nas203/ds_RehabilitationMedicineData/data/김원 보산진 연구/resize/M12visit6상지2resized_frames\n",
      "[OK]   /workspace/nas203/ds_RehabilitationMedicineData/data/김원 보산진 연구/resize/M12visit6하지resized_frames\n",
      "[OK]   /workspace/nas203/ds_RehabilitationMedicineData/data/김원 보산진 연구/resize/M13visit13상지(측면)resized_frames\n",
      "[OK]   /workspace/nas203/ds_RehabilitationMedicineData/data/김원 보산진 연구/resize/M13visit13하지(정면)resized_frames\n",
      "[MISS] /workspace/nas203/ds_RehabilitationMedicineData/data/김원 보산진 연구/resize/M13Visit2복부, 하지resized_frames\n",
      "[OK]   /workspace/nas203/ds_RehabilitationMedicineData/data/김원 보산진 연구/resize/M13Visit2상지resized_frames\n",
      "[MISS] /workspace/nas203/ds_RehabilitationMedicineData/data/김원 보산진 연구/resize/M13Visit6복부, 하지resized_frames\n",
      "[OK]   /workspace/nas203/ds_RehabilitationMedicineData/data/김원 보산진 연구/resize/M13Visit6상지resized_frames\n",
      "\n",
      "=== 요약 ===\n",
      "존재하는 폴더: 54개\n",
      "없는 폴더: 4개\n",
      "\n",
      "존재하지 않는 폴더 예시:\n",
      " - /workspace/nas203/ds_RehabilitationMedicineData/data/김원 보산진 연구/resize/M07VISIT2상지resized_frames\n",
      " - /workspace/nas203/ds_RehabilitationMedicineData/data/김원 보산진 연구/resize/M07VISIT2하지resized_frames\n",
      " - /workspace/nas203/ds_RehabilitationMedicineData/data/김원 보산진 연구/resize/M13Visit2복부, 하지resized_frames\n",
      " - /workspace/nas203/ds_RehabilitationMedicineData/data/김원 보산진 연구/resize/M13Visit6복부, 하지resized_frames\n"
     ]
    }
   ],
   "source": [
    "import pandas as pd\n",
    "from pathlib import Path\n",
    "\n",
    "# CSV 불러오기\n",
    "csv_path = \"video_metadata.csv\"\n",
    "df = pd.read_csv(csv_path)\n",
    "\n",
    "print(f\"[INFO] 총 {len(df)}개 비디오 기록 로드됨\\n\")\n",
    "\n",
    "missing = []\n",
    "for i, row in df.iterrows():\n",
    "    frame_dir = Path(row[\"frame_dir\"])\n",
    "    if frame_dir.exists():\n",
    "        print(f\"[OK]   {frame_dir}\")\n",
    "    else:\n",
    "        print(f\"[MISS] {frame_dir}\")\n",
    "        missing.append(frame_dir)\n",
    "\n",
    "print(\"\\n=== 요약 ===\")\n",
    "print(f\"존재하는 폴더: {len(df) - len(missing)}개\")\n",
    "print(f\"없는 폴더: {len(missing)}개\")\n",
    "\n",
    "if missing:\n",
    "    print(\"\\n존재하지 않는 폴더 예시:\")\n",
    "    for d in missing[:5]:\n",
    "        print(\" -\", d)\n"
   ]
  },
  {
   "cell_type": "markdown",
   "id": "089928d0-4465-496c-8aaf-6db2c1c5a340",
   "metadata": {},
   "source": [
    "# Frame 추출\n",
    "기존 frame을 사용하지 않고 IDs 내부에 다시 생성하려고 했지만 생각보다 오랜 시간이 걸리는 것을 확인하고 포기.  \n",
    "추후 아직 resized 안된  \n",
    "=== 비디오는 있는데 resized_frames 폴더는 없는 것 ===\n",
    " - m07visit2상지\n",
    " - m07visit2하지\n",
    "\n",
    "이거 2개만 만들 예정."
   ]
  },
  {
   "cell_type": "code",
   "execution_count": null,
   "id": "041d88fe-7ba1-421c-8670-8e8265d5857e",
   "metadata": {},
   "outputs": [
    {
     "name": "stdout",
     "output_type": "stream",
     "text": [
      "이미 존재함, mp4 건너뜀: /workspace/nas203/ds_RehabilitationMedicineData/IDs/Kimjihoo/Project_HCC_move/Patient_data/raw/mp4/M01_VISIT2_상지_720p.mp4\n"
     ]
    },
    {
     "name": "stderr",
     "output_type": "stream",
     "text": [
      "M01_VISIT2_상지.MP4 → frames: 100% 11370/11370 [05:06<00:00, 37.12frame/s]\n"
     ]
    },
    {
     "name": "stdout",
     "output_type": "stream",
     "text": [
      "프레임 추출 완료: /workspace/nas203/ds_RehabilitationMedicineData/IDs/Kimjihoo/Project_HCC_move/Patient_data/raw/frames/M01_VISIT2_상지_720p_frames\n",
      "이미 존재함, mp4 건너뜀: /workspace/nas203/ds_RehabilitationMedicineData/IDs/Kimjihoo/Project_HCC_move/Patient_data/raw/mp4/M01_VISIT2_하지_720p.mp4\n"
     ]
    },
    {
     "name": "stderr",
     "output_type": "stream",
     "text": [
      "M01_VISIT2_하지.MP4 → frames: 100% 23401/23401 [10:28<00:00, 37.25frame/s]\n"
     ]
    },
    {
     "name": "stdout",
     "output_type": "stream",
     "text": [
      "프레임 추출 완료: /workspace/nas203/ds_RehabilitationMedicineData/IDs/Kimjihoo/Project_HCC_move/Patient_data/raw/frames/M01_VISIT2_하지_720p_frames\n",
      "이미 존재함, mp4 건너뜀: /workspace/nas203/ds_RehabilitationMedicineData/IDs/Kimjihoo/Project_HCC_move/Patient_data/raw/mp4/M01_VISIT6_상지_720p.mp4\n"
     ]
    },
    {
     "name": "stderr",
     "output_type": "stream",
     "text": [
      "M01_VISIT6_상지.MP4 → frames: 100% 14987/14987 [06:40<00:00, 37.41frame/s]\n"
     ]
    },
    {
     "name": "stdout",
     "output_type": "stream",
     "text": [
      "프레임 추출 완료: /workspace/nas203/ds_RehabilitationMedicineData/IDs/Kimjihoo/Project_HCC_move/Patient_data/raw/frames/M01_VISIT6_상지_720p_frames\n",
      "이미 존재함, mp4 건너뜀: /workspace/nas203/ds_RehabilitationMedicineData/IDs/Kimjihoo/Project_HCC_move/Patient_data/raw/mp4/M01_VISIT6_하지_720p.mp4\n"
     ]
    },
    {
     "name": "stderr",
     "output_type": "stream",
     "text": [
      "M01_VISIT6_하지.MP4 → frames: 100% 25388/25388 [12:05<00:00, 35.01frame/s]\n"
     ]
    },
    {
     "name": "stdout",
     "output_type": "stream",
     "text": [
      "프레임 추출 완료: /workspace/nas203/ds_RehabilitationMedicineData/IDs/Kimjihoo/Project_HCC_move/Patient_data/raw/frames/M01_VISIT6_하지_720p_frames\n",
      "이미 존재함, mp4 건너뜀: /workspace/nas203/ds_RehabilitationMedicineData/IDs/Kimjihoo/Project_HCC_move/Patient_data/raw/mp4/M01_VISIT12_720p.mp4\n"
     ]
    },
    {
     "name": "stderr",
     "output_type": "stream",
     "text": [
      "M01_VISIT12.MP4 → frames: 100% 45614/45614 [21:07<00:00, 35.98frame/s]\n"
     ]
    },
    {
     "name": "stdout",
     "output_type": "stream",
     "text": [
      "프레임 추출 완료: /workspace/nas203/ds_RehabilitationMedicineData/IDs/Kimjihoo/Project_HCC_move/Patient_data/raw/frames/M01_VISIT12_720p_frames\n",
      "이미 존재함, mp4 건너뜀: /workspace/nas203/ds_RehabilitationMedicineData/IDs/Kimjihoo/Project_HCC_move/Patient_data/raw/mp4/M02_VISIT2_720p.mp4\n"
     ]
    },
    {
     "name": "stderr",
     "output_type": "stream",
     "text": [
      "M02_VISIT2.MP4 → frames: 100% 28600/28600 [12:46<00:00, 37.30frame/s]\n"
     ]
    },
    {
     "name": "stdout",
     "output_type": "stream",
     "text": [
      "프레임 추출 완료: /workspace/nas203/ds_RehabilitationMedicineData/IDs/Kimjihoo/Project_HCC_move/Patient_data/raw/frames/M02_VISIT2_720p_frames\n",
      "이미 존재함, mp4 건너뜀: /workspace/nas203/ds_RehabilitationMedicineData/IDs/Kimjihoo/Project_HCC_move/Patient_data/raw/mp4/M02_VISIT6_720p.mp4\n"
     ]
    },
    {
     "name": "stderr",
     "output_type": "stream",
     "text": [
      "M02_VISIT6.MP4 → frames: 100% 36458/36458 [17:47<00:00, 34.16frame/s]\n"
     ]
    },
    {
     "name": "stdout",
     "output_type": "stream",
     "text": [
      "프레임 추출 완료: /workspace/nas203/ds_RehabilitationMedicineData/IDs/Kimjihoo/Project_HCC_move/Patient_data/raw/frames/M02_VISIT6_720p_frames\n",
      "이미 존재함, mp4 건너뜀: /workspace/nas203/ds_RehabilitationMedicineData/IDs/Kimjihoo/Project_HCC_move/Patient_data/raw/mp4/M02_VISIT12_상지_720p.mp4\n"
     ]
    },
    {
     "name": "stderr",
     "output_type": "stream",
     "text": [
      "M02_VISIT12_상지.MP4 → frames: 100% 24995/24995 [11:46<00:00, 35.38frame/s]\n"
     ]
    },
    {
     "name": "stdout",
     "output_type": "stream",
     "text": [
      "프레임 추출 완료: /workspace/nas203/ds_RehabilitationMedicineData/IDs/Kimjihoo/Project_HCC_move/Patient_data/raw/frames/M02_VISIT12_상지_720p_frames\n",
      "이미 존재함, mp4 건너뜀: /workspace/nas203/ds_RehabilitationMedicineData/IDs/Kimjihoo/Project_HCC_move/Patient_data/raw/mp4/M02_VISIT12_하지1_720p.mp4\n"
     ]
    },
    {
     "name": "stderr",
     "output_type": "stream",
     "text": [
      "M02_VISIT12_하지1.MP4 → frames: 100% 17596/17596 [08:37<00:00, 33.98frame/s]\n"
     ]
    },
    {
     "name": "stdout",
     "output_type": "stream",
     "text": [
      "프레임 추출 완료: /workspace/nas203/ds_RehabilitationMedicineData/IDs/Kimjihoo/Project_HCC_move/Patient_data/raw/frames/M02_VISIT12_하지1_720p_frames\n",
      "이미 존재함, mp4 건너뜀: /workspace/nas203/ds_RehabilitationMedicineData/IDs/Kimjihoo/Project_HCC_move/Patient_data/raw/mp4/M02_VISIT12_하지2_720p.mp4\n"
     ]
    },
    {
     "name": "stderr",
     "output_type": "stream",
     "text": [
      "M02_VISIT12_하지2.MP4 → frames: 100% 14316/14316 [06:49<00:00, 34.93frame/s]\n"
     ]
    },
    {
     "name": "stdout",
     "output_type": "stream",
     "text": [
      "프레임 추출 완료: /workspace/nas203/ds_RehabilitationMedicineData/IDs/Kimjihoo/Project_HCC_move/Patient_data/raw/frames/M02_VISIT12_하지2_720p_frames\n",
      "이미 존재함, mp4 건너뜀: /workspace/nas203/ds_RehabilitationMedicineData/IDs/Kimjihoo/Project_HCC_move/Patient_data/raw/mp4/M03_VISIT2_720p.mp4\n"
     ]
    },
    {
     "name": "stderr",
     "output_type": "stream",
     "text": [
      "M03_VISIT2.MP4 → frames: 100% 29805/29805 [14:04<00:00, 35.28frame/s]  \n"
     ]
    },
    {
     "name": "stdout",
     "output_type": "stream",
     "text": [
      "프레임 추출 완료: /workspace/nas203/ds_RehabilitationMedicineData/IDs/Kimjihoo/Project_HCC_move/Patient_data/raw/frames/M03_VISIT2_720p_frames\n",
      "이미 존재함, mp4 건너뜀: /workspace/nas203/ds_RehabilitationMedicineData/IDs/Kimjihoo/Project_HCC_move/Patient_data/raw/mp4/M03_VISIT6_상지_720p.mp4\n"
     ]
    },
    {
     "name": "stderr",
     "output_type": "stream",
     "text": [
      "M03_VISIT6_상지.MP4 → frames: 100% 22362/22362 [10:33<00:00, 35.31frame/s]\n"
     ]
    },
    {
     "name": "stdout",
     "output_type": "stream",
     "text": [
      "프레임 추출 완료: /workspace/nas203/ds_RehabilitationMedicineData/IDs/Kimjihoo/Project_HCC_move/Patient_data/raw/frames/M03_VISIT6_상지_720p_frames\n",
      "이미 존재함, mp4 건너뜀: /workspace/nas203/ds_RehabilitationMedicineData/IDs/Kimjihoo/Project_HCC_move/Patient_data/raw/mp4/M03_VISIT6_하지_720p.mp4\n"
     ]
    },
    {
     "name": "stderr",
     "output_type": "stream",
     "text": [
      "M03_VISIT6_하지.MP4 → frames: 100% 9386/9386 [04:31<00:00, 34.55frame/s]\n"
     ]
    },
    {
     "name": "stdout",
     "output_type": "stream",
     "text": [
      "프레임 추출 완료: /workspace/nas203/ds_RehabilitationMedicineData/IDs/Kimjihoo/Project_HCC_move/Patient_data/raw/frames/M03_VISIT6_하지_720p_frames\n",
      "이미 존재함, mp4 건너뜀: /workspace/nas203/ds_RehabilitationMedicineData/IDs/Kimjihoo/Project_HCC_move/Patient_data/raw/mp4/M03_VISIT12_상지_720p.mp4\n"
     ]
    },
    {
     "name": "stderr",
     "output_type": "stream",
     "text": [
      "M03_VISIT12_상지.MP4 → frames: 100% 15542/15542 [07:35<00:00, 34.13frame/s]\n"
     ]
    },
    {
     "name": "stdout",
     "output_type": "stream",
     "text": [
      "프레임 추출 완료: /workspace/nas203/ds_RehabilitationMedicineData/IDs/Kimjihoo/Project_HCC_move/Patient_data/raw/frames/M03_VISIT12_상지_720p_frames\n",
      "이미 존재함, mp4 건너뜀: /workspace/nas203/ds_RehabilitationMedicineData/IDs/Kimjihoo/Project_HCC_move/Patient_data/raw/mp4/M03_VISIT12_하지_720p.mp4\n"
     ]
    },
    {
     "name": "stderr",
     "output_type": "stream",
     "text": [
      "M03_VISIT12_하지.MP4 → frames: 100% 14262/14262 [06:28<00:00, 36.72frame/s]\n"
     ]
    },
    {
     "name": "stdout",
     "output_type": "stream",
     "text": [
      "프레임 추출 완료: /workspace/nas203/ds_RehabilitationMedicineData/IDs/Kimjihoo/Project_HCC_move/Patient_data/raw/frames/M03_VISIT12_하지_720p_frames\n",
      "이미 존재함, mp4 건너뜀: /workspace/nas203/ds_RehabilitationMedicineData/IDs/Kimjihoo/Project_HCC_move/Patient_data/raw/mp4/M04_VISIT2_720p.mp4\n"
     ]
    },
    {
     "name": "stderr",
     "output_type": "stream",
     "text": [
      "M04_VISIT2.MP4 → frames: 100% 35841/35841 [16:32<00:00, 36.12frame/s]\n"
     ]
    },
    {
     "name": "stdout",
     "output_type": "stream",
     "text": [
      "프레임 추출 완료: /workspace/nas203/ds_RehabilitationMedicineData/IDs/Kimjihoo/Project_HCC_move/Patient_data/raw/frames/M04_VISIT2_720p_frames\n",
      "이미 존재함, mp4 건너뜀: /workspace/nas203/ds_RehabilitationMedicineData/IDs/Kimjihoo/Project_HCC_move/Patient_data/raw/mp4/M04_VISIT6_상지_720p.mp4\n"
     ]
    },
    {
     "name": "stderr",
     "output_type": "stream",
     "text": [
      "M04_VISIT6_상지.MP4 → frames: 100% 11954/11954 [05:38<00:00, 35.34frame/s]\n"
     ]
    },
    {
     "name": "stdout",
     "output_type": "stream",
     "text": [
      "프레임 추출 완료: /workspace/nas203/ds_RehabilitationMedicineData/IDs/Kimjihoo/Project_HCC_move/Patient_data/raw/frames/M04_VISIT6_상지_720p_frames\n",
      "이미 존재함, mp4 건너뜀: /workspace/nas203/ds_RehabilitationMedicineData/IDs/Kimjihoo/Project_HCC_move/Patient_data/raw/mp4/M04_VISIT6_하지1_720p.mp4\n"
     ]
    },
    {
     "name": "stderr",
     "output_type": "stream",
     "text": [
      "M04_VISIT6_하지1.MP4 → frames: 100% 592/592 [00:17<00:00, 34.28frame/s]\n"
     ]
    },
    {
     "name": "stdout",
     "output_type": "stream",
     "text": [
      "프레임 추출 완료: /workspace/nas203/ds_RehabilitationMedicineData/IDs/Kimjihoo/Project_HCC_move/Patient_data/raw/frames/M04_VISIT6_하지1_720p_frames\n",
      "이미 존재함, mp4 건너뜀: /workspace/nas203/ds_RehabilitationMedicineData/IDs/Kimjihoo/Project_HCC_move/Patient_data/raw/mp4/M04_VISIT6_하지2_720p.mp4\n"
     ]
    },
    {
     "name": "stderr",
     "output_type": "stream",
     "text": [
      "M04_VISIT6_하지2.MP4 → frames: 100% 18974/18974 [09:35<00:00, 32.98frame/s]\n"
     ]
    },
    {
     "name": "stdout",
     "output_type": "stream",
     "text": [
      "프레임 추출 완료: /workspace/nas203/ds_RehabilitationMedicineData/IDs/Kimjihoo/Project_HCC_move/Patient_data/raw/frames/M04_VISIT6_하지2_720p_frames\n",
      "이미 존재함, mp4 건너뜀: /workspace/nas203/ds_RehabilitationMedicineData/IDs/Kimjihoo/Project_HCC_move/Patient_data/raw/mp4/M04_VISIT12_720p.mp4\n"
     ]
    },
    {
     "name": "stderr",
     "output_type": "stream",
     "text": [
      "M04_VISIT12.MP4 → frames: 100% 33882/33882 [15:00<00:00, 37.61frame/s]\n"
     ]
    },
    {
     "name": "stdout",
     "output_type": "stream",
     "text": [
      "프레임 추출 완료: /workspace/nas203/ds_RehabilitationMedicineData/IDs/Kimjihoo/Project_HCC_move/Patient_data/raw/frames/M04_VISIT12_720p_frames\n",
      "이미 존재함, mp4 건너뜀: /workspace/nas203/ds_RehabilitationMedicineData/IDs/Kimjihoo/Project_HCC_move/Patient_data/raw/mp4/M06_VISIT12_상하지_720p.mp4\n"
     ]
    },
    {
     "name": "stderr",
     "output_type": "stream",
     "text": [
      "M06_VISIT12_상하지.MP4 → frames: 100% 24329/24329 [08:52<00:00, 45.70frame/s]\n"
     ]
    },
    {
     "name": "stdout",
     "output_type": "stream",
     "text": [
      "프레임 추출 완료: /workspace/nas203/ds_RehabilitationMedicineData/IDs/Kimjihoo/Project_HCC_move/Patient_data/raw/frames/M06_VISIT12_상하지_720p_frames\n",
      "이미 존재함, mp4 건너뜀: /workspace/nas203/ds_RehabilitationMedicineData/IDs/Kimjihoo/Project_HCC_move/Patient_data/raw/mp4/M06_VISIT2_상하지_720p.mp4\n"
     ]
    },
    {
     "name": "stderr",
     "output_type": "stream",
     "text": [
      "M06_VISIT2_상하지.MP4 → frames: 100% 42427/42427 [15:54<00:00, 44.44frame/s]\n",
      "[mov,mp4,m4a,3gp,3g2,mj2 @ 0x563a18318240] moov atom not found\n"
     ]
    },
    {
     "name": "stdout",
     "output_type": "stream",
     "text": [
      "프레임 추출 완료: /workspace/nas203/ds_RehabilitationMedicineData/IDs/Kimjihoo/Project_HCC_move/Patient_data/raw/frames/M06_VISIT2_상하지_720p_frames\n",
      "이미 존재함, mp4 건너뜀: /workspace/nas203/ds_RehabilitationMedicineData/IDs/Kimjihoo/Project_HCC_move/Patient_data/raw/mp4/M06_VISIT6_상하지_720p.mp4\n"
     ]
    },
    {
     "name": "stderr",
     "output_type": "stream",
     "text": [
      "M06_VISIT6_상하지.MP4 → frames: 0frame [00:00, ?frame/s]\n"
     ]
    },
    {
     "name": "stdout",
     "output_type": "stream",
     "text": [
      "프레임 추출 완료: /workspace/nas203/ds_RehabilitationMedicineData/IDs/Kimjihoo/Project_HCC_move/Patient_data/raw/frames/M06_VISIT6_상하지_720p_frames\n",
      "이미 존재함, mp4 건너뜀: /workspace/nas203/ds_RehabilitationMedicineData/IDs/Kimjihoo/Project_HCC_move/Patient_data/raw/mp4/M07_VISIT2_상지_720p.mp4\n"
     ]
    },
    {
     "name": "stderr",
     "output_type": "stream",
     "text": [
      "M07_VISIT2_상지.mov → frames: 100% 16480/16480 [05:44<00:00, 47.78frame/s]\n"
     ]
    },
    {
     "name": "stdout",
     "output_type": "stream",
     "text": [
      "프레임 추출 완료: /workspace/nas203/ds_RehabilitationMedicineData/IDs/Kimjihoo/Project_HCC_move/Patient_data/raw/frames/M07_VISIT2_상지_720p_frames\n"
     ]
    },
    {
     "name": "stderr",
     "output_type": "stream",
     "text": [
      "M07_VISIT2_하지.mov: 100% 11175/11175 [01:46<00:00, 104.84frame/s]\n"
     ]
    },
    {
     "name": "stdout",
     "output_type": "stream",
     "text": [
      "저장 완료: /workspace/nas203/ds_RehabilitationMedicineData/IDs/Kimjihoo/Project_HCC_move/Patient_data/raw/mp4/M07_VISIT2_하지_720p.mp4\n"
     ]
    },
    {
     "name": "stderr",
     "output_type": "stream",
     "text": [
      "M07_VISIT2_하지.mov → frames: 100% 11175/11175 [03:57<00:00, 47.04frame/s]\n"
     ]
    },
    {
     "name": "stdout",
     "output_type": "stream",
     "text": [
      "프레임 추출 완료: /workspace/nas203/ds_RehabilitationMedicineData/IDs/Kimjihoo/Project_HCC_move/Patient_data/raw/frames/M07_VISIT2_하지_720p_frames\n"
     ]
    },
    {
     "name": "stderr",
     "output_type": "stream",
     "text": [
      "M07_VISIT6_상하지.MP4: 100% 37574/37574 [12:58<00:00, 48.23frame/s]\n"
     ]
    },
    {
     "name": "stdout",
     "output_type": "stream",
     "text": [
      "저장 완료: /workspace/nas203/ds_RehabilitationMedicineData/IDs/Kimjihoo/Project_HCC_move/Patient_data/raw/mp4/M07_VISIT6_상하지_720p.mp4\n"
     ]
    },
    {
     "name": "stderr",
     "output_type": "stream",
     "text": [
      "M07_VISIT6_상하지.MP4 → frames: 100% 37574/37574 [14:28<00:00, 43.28frame/s]\n"
     ]
    },
    {
     "name": "stdout",
     "output_type": "stream",
     "text": [
      "프레임 추출 완료: /workspace/nas203/ds_RehabilitationMedicineData/IDs/Kimjihoo/Project_HCC_move/Patient_data/raw/frames/M07_VISIT6_상하지_720p_frames\n"
     ]
    },
    {
     "name": "stderr",
     "output_type": "stream",
     "text": [
      "M07_VISIT12_상지.MP4: 100% 15466/15466 [05:30<00:00, 46.82frame/s]\n"
     ]
    },
    {
     "name": "stdout",
     "output_type": "stream",
     "text": [
      "저장 완료: /workspace/nas203/ds_RehabilitationMedicineData/IDs/Kimjihoo/Project_HCC_move/Patient_data/raw/mp4/M07_VISIT12_상지_720p.mp4\n"
     ]
    },
    {
     "name": "stderr",
     "output_type": "stream",
     "text": [
      "M07_VISIT12_상지.MP4 → frames: 100% 15466/15466 [05:43<00:00, 44.99frame/s]\n"
     ]
    },
    {
     "name": "stdout",
     "output_type": "stream",
     "text": [
      "프레임 추출 완료: /workspace/nas203/ds_RehabilitationMedicineData/IDs/Kimjihoo/Project_HCC_move/Patient_data/raw/frames/M07_VISIT12_상지_720p_frames\n"
     ]
    },
    {
     "name": "stderr",
     "output_type": "stream",
     "text": [
      "M07_VISIT12_하지.MP4: 100% 22600/22600 [08:21<00:00, 45.04frame/s]\n"
     ]
    },
    {
     "name": "stdout",
     "output_type": "stream",
     "text": [
      "저장 완료: /workspace/nas203/ds_RehabilitationMedicineData/IDs/Kimjihoo/Project_HCC_move/Patient_data/raw/mp4/M07_VISIT12_하지_720p.mp4\n"
     ]
    },
    {
     "name": "stderr",
     "output_type": "stream",
     "text": [
      "M07_VISIT12_하지.MP4 → frames:  19% 4359/22600 [01:40<07:24, 41.04frame/s]"
     ]
    }
   ],
   "source": [
    "# import cv2\n",
    "# from pathlib import Path\n",
    "# from tqdm import tqdm  # 진행 표시줄\n",
    "\n",
    "# # === 입력 경로들 ===\n",
    "# PATHS = [\n",
    "#     \"/workspace/nas203/ds_RehabilitationMedicineData/data/김원 보산진 연구\",\n",
    "#     \"/workspace/nas203/ds_RehabilitationMedicineData/data/김원 보산진 연구_2/M14\",\n",
    "#     \"/workspace/nas203/ds_RehabilitationMedicineData/data/김원 보산진 연구_2/M15\",\n",
    "#     \"/workspace/nas203/ds_RehabilitationMedicineData/data/김원 보산진 연구_2/M16\",\n",
    "# ]\n",
    "\n",
    "# # === 출력 경로 ===\n",
    "# OUTPUT_MP4 = Path(\"./data/Patient_data/raw/mp4\")\n",
    "# OUTPUT_FRAMES = Path(\"./data/Patient_data/raw/frames\")\n",
    "# OUTPUT_MP4.mkdir(parents=True, exist_ok=True)\n",
    "# OUTPUT_FRAMES.mkdir(parents=True, exist_ok=True)\n",
    "\n",
    "# # === 해상도 ===\n",
    "# TARGET_SIZE = (1280, 720)   # (width, height)\n",
    "# EXTS = {\".mp4\", \".mov\"}\n",
    "\n",
    "# for base in PATHS:\n",
    "#     p = Path(base)\n",
    "#     if not p.is_dir():\n",
    "#         print(f\"✗ 경로 없음: {p}\")\n",
    "#         continue\n",
    "\n",
    "#     for f in p.iterdir():\n",
    "#         if f.is_file() and f.suffix.lower() in EXTS:\n",
    "#             out_mp4 = OUTPUT_MP4 / (f.stem + \"_720p.mp4\")\n",
    "#             out_frame_dir = OUTPUT_FRAMES / (f.stem + \"_720p_frames\")\n",
    "#             out_frame_dir.mkdir(parents=True, exist_ok=True)\n",
    "\n",
    "#             # 이미 mp4가 있으면 건너뜀\n",
    "#             if out_mp4.exists():\n",
    "#                 print(f\"이미 존재함, mp4 건너뜀: {out_mp4}\")\n",
    "#             else:\n",
    "#                 cap = cv2.VideoCapture(str(f))\n",
    "#                 if not cap.isOpened():\n",
    "#                     print(f\"열 수 없음: {f}\")\n",
    "#                     continue\n",
    "\n",
    "#                 fps = cap.get(cv2.CAP_PROP_FPS)\n",
    "#                 total_frames = int(cap.get(cv2.CAP_PROP_FRAME_COUNT))\n",
    "#                 fourcc = cv2.VideoWriter_fourcc(*\"mp4v\")  # mp4 저장 코덱\n",
    "#                 out = cv2.VideoWriter(str(out_mp4), fourcc, fps, TARGET_SIZE)\n",
    "\n",
    "#                 # tqdm 진행바\n",
    "#                 for _ in tqdm(range(total_frames), desc=f.name, unit=\"frame\"):\n",
    "#                     ret, frame = cap.read()\n",
    "#                     if not ret:\n",
    "#                         break\n",
    "#                     resized = cv2.resize(frame, TARGET_SIZE)\n",
    "#                     out.write(resized)\n",
    "\n",
    "#                 cap.release()\n",
    "#                 out.release()\n",
    "#                 print(f\"저장 완료: {out_mp4}\")\n",
    "\n",
    "#             # 프레임 추출 (존재 여부 확인)\n",
    "#             existing_frames = list(out_frame_dir.glob(\"*.jpg\"))\n",
    "#             if len(existing_frames) > 0:\n",
    "#                 print(f\"이미 존재함, frames 건너뜀: {out_frame_dir}\")\n",
    "#                 continue\n",
    "\n",
    "#             cap = cv2.VideoCapture(str(out_mp4))  # 변환된 mp4 기준\n",
    "#             total_frames = int(cap.get(cv2.CAP_PROP_FRAME_COUNT))\n",
    "#             for idx in tqdm(range(total_frames), desc=f\"{f.name} → frames\", unit=\"frame\"):\n",
    "#                 ret, frame = cap.read()\n",
    "#                 if not ret:\n",
    "#                     break\n",
    "#                 out_frame = cv2.resize(frame, TARGET_SIZE)\n",
    "#                 frame_path = out_frame_dir / f\"frame_{idx:06d}.jpg\"\n",
    "#                 cv2.imwrite(str(frame_path), out_frame)\n",
    "#             cap.release()\n",
    "#             print(f\"프레임 추출 완료: {out_frame_dir}\")\n",
    "\n",
    "# print(\"모든 변환/프레임 추출 완료!\")\n"
   ]
  }
 ],
 "metadata": {
  "kernelspec": {
   "display_name": "Python (sapiens)",
   "language": "python",
   "name": "sapiens"
  },
  "language_info": {
   "codemirror_mode": {
    "name": "ipython",
    "version": 3
   },
   "file_extension": ".py",
   "mimetype": "text/x-python",
   "name": "python",
   "nbconvert_exporter": "python",
   "pygments_lexer": "ipython3",
   "version": "3.10.13"
  }
 },
 "nbformat": 4,
 "nbformat_minor": 5
}
